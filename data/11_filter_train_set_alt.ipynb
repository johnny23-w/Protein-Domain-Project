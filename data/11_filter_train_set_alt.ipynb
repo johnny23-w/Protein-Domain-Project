{
 "cells": [
  {
   "cell_type": "code",
   "execution_count": 1,
   "metadata": {},
   "outputs": [],
   "source": [
    "import pandas as pd\n",
    "from sklearn.model_selection import train_test_split\n",
    "from IPython.display import clear_output\n",
    "import numpy as np"
   ]
  },
  {
   "cell_type": "code",
   "execution_count": 2,
   "metadata": {},
   "outputs": [],
   "source": [
    "def parse_domain(dom_str):\n",
    "\n",
    "    def sort_domains(domain_list):\n",
    "        idx = sorted(range(len(domain_list)), key=lambda k: domain_list[k][1][0])\n",
    "        return [domain_list[i] for i in idx]\n",
    "\n",
    "    unsorted = [[it[0], list(map(int, it[1].split(':')))] for it in (dom.split(';') for dom in dom_str.split('|'))]\n",
    "\n",
    "    return sort_domains(unsorted)\n",
    "\n",
    "def dom_arc_remove_consec_disorder(dom_list):\n",
    "    doms = [dom[0] for dom in dom_list]\n",
    "    doms = [dom for i, dom in enumerate(doms) if (i==0) or not (dom == doms[i-1] == 'd')]\n",
    "    return '|'.join(doms)\n",
    "\n",
    "\n",
    "def count_real_domains(dom_list):\n",
    "    return len([dom for dom in dom_list if dom[0][0] not in ['d', 'm']])\n",
    "\n",
    "\n",
    "def train_seq_redundant(dom_list, test_doms):\n",
    "    return set([dom[0] for dom in dom_list]).isdisjoint(test_doms)"
   ]
  },
  {
   "cell_type": "code",
   "execution_count": 3,
   "metadata": {},
   "outputs": [
    {
     "name": "stdout",
     "output_type": "stream",
     "text": [
      "Processing Line 24000000\n",
      "[('PF00126|PF03466', 256240), ('PF00072', 159496), ('PF00903', 145433), ('PF00892|PF00892', 135718), ('PF00115', 131139), ('PF00248', 130834), ('PF00171', 122629), ('PF00378', 121962), ('PF01850', 88321), ('PF02771|PF02770|PF00441', 86910), ('PF00294', 85240), ('PF00873', 84865), ('PF00392|PF07729', 81142), ('PF00293', 80483), ('PF00155', 78640), ('PF00561', 75949), ('PF00266', 70701), ('PF00583', 70581), ('PF00069', 70193), ('PF01266', 67347), ('PF01925', 67095), ('PF00202', 66828), ('PF01261', 65744), ('PF12697', 64858), ('PF00067', 63450), ('PF04542|PF08281', 63051), ('PF02653', 62884), ('PF13439|PF00534', 59233), ('PF01381', 58815), ('PF00291', 58559), ('PF02515', 56072), ('PF01041', 55489), ('PF01810', 55202), ('PF00300', 54011), ('PF16363', 53986), ('PF01042', 53654), ('PF01053', 52961), ('PF00582', 52931), ('PF00108|PF02803', 52148), ('PF01425', 51554), ('PF03372', 50722), ('PF00701', 49522), ('PF07992|PF02852', 49516), ('PF00085', 48545), ('PF00459', 48201), ('PF13302', 46798), ('PF05016', 45665), ('PF07690', 45279), ('PF00117', 44353), ('PF01593', 43621), ('PF00550', 43104), ('PF02472', 42492), ('PF00578', 42437), ('PF07992', 42331), ('PF00857', 41999), ('PF02597', 41592), ('PF00528', 41569), ('PF04909', 41086), ('PF00275', 41034), ('PF00180', 40966), ('PF00696', 40791), ('PF00795', 40134), ('PF12680', 39584), ('PF00881', 39344), ('PF00005', 38594), ('PF00516', 38473), ('PF01467', 38322), ('PF00581', 37841), ('PF03446|PF14833', 37654), ('PF01026', 37541), ('PF07686', 37524), ('PF08327', 37293), ('PF06808', 37265), ('PF01594', 37212), ('PF01032', 37164), ('PF00465', 37159), ('PF02082', 36626), ('PF01048', 36500), ('PF01225|PF08245|PF02875', 36378), ('PF03721|PF00984|PF03720', 35866), ('PF01451', 35740), ('PF00106', 35577), ('PF02729|PF00185', 35501), ('PF10604', 35078), ('PF05685', 34805), ('PF00480', 34740), ('PF12698', 34635), ('PF00977', 34299), ('PF00083', 34152), ('PF01757', 34015), ('PF01740', 33987), ('PF00156', 33971), ('PF01638', 33751), ('PF00216', 33578), ('PF01475', 33570), ('PF12728', 33468), ('PF02899|PF00589', 33196), ('PF00072|PF00196', 33080), ('PF01872', 32828), ('PF13853', 32669)]\n",
      "34192\n"
     ]
    }
   ],
   "source": [
    "from collections import Counter\n",
    "\n",
    "train_dom_arcs = []\n",
    "with open('train_unbalanced.csv') as f:\n",
    "    for idx, line in enumerate(f):\n",
    "        train_dom_arcs.append('|'.join([dom[0] for dom in parse_domain(line.split(',')[1]) if dom[0] != 'd']))\n",
    "        if idx % 1000000 == 0:\n",
    "            clear_output()\n",
    "            print(f'Processing Line {idx}')\n",
    "\n",
    "train_dom_arcs = Counter(train_dom_arcs)\n",
    "print(train_dom_arcs.most_common(100))\n",
    "print(len(train_dom_arcs))"
   ]
  },
  {
   "cell_type": "code",
   "execution_count": 4,
   "metadata": {},
   "outputs": [
    {
     "name": "stdout",
     "output_type": "stream",
     "text": [
      "Processing Line 24000000\n",
      "[('PF00892', 287541), ('PF03466', 270771), ('PF00126', 261369), ('PF00072', 245043), ('PF00903', 156893), ('PF00440', 146417), ('PF00248', 136379), ('PF00115', 131201), ('PF00571', 129879), ('PF00171', 125051), ('PF00378', 123724), ('PF07992', 121499), ('PF00392', 116539), ('PF00582', 104824), ('PF00441', 95936), ('PF02771', 94335), ('PF02770', 93739), ('PF07690', 93247), ('PF00153', 92688), ('PF01850', 88387)]\n",
      "14036\n"
     ]
    }
   ],
   "source": [
    "train_doms = []\n",
    "with open('train_unbalanced.csv') as f:\n",
    "    for idx, line in enumerate(f):\n",
    "        train_doms += [dom[0] for dom in parse_domain(line.split(',')[1]) if dom[0]!='d']\n",
    "        if idx % 1000000 == 0:\n",
    "            clear_output()\n",
    "            print(f'Processing Line {idx}')\n",
    "train_doms = Counter(train_doms)\n",
    "print(train_doms.most_common(20))\n",
    "print(len(train_doms))"
   ]
  },
  {
   "cell_type": "code",
   "execution_count": 5,
   "metadata": {},
   "outputs": [
    {
     "name": "stdout",
     "output_type": "stream",
     "text": [
      "13912\n",
      "20280\n"
     ]
    }
   ],
   "source": [
    "print(len([dom for dom in train_dom_arcs if dom.count('PF')==1]))\n",
    "print(len([dom for dom in train_dom_arcs if dom.count('PF')>1]))"
   ]
  },
  {
   "cell_type": "code",
   "execution_count": 6,
   "metadata": {},
   "outputs": [],
   "source": [
    "pd.read_csv('train_unbalanced.csv', header=None).sample(frac=1).reset_index(drop=True).to_csv('train_unbalanced_shuffled.csv', header=None, index=None)"
   ]
  },
  {
   "cell_type": "code",
   "execution_count": 11,
   "metadata": {},
   "outputs": [
    {
     "name": "stdout",
     "output_type": "stream",
     "text": [
      "59403\n"
     ]
    }
   ],
   "source": [
    "to_keep = 0\n",
    "dom_arc_count = {dom_arc: 0 for dom_arc in train_dom_arcs}\n",
    "dom_count = {dom: 0 for dom in train_doms}\n",
    "with open('train_unbalanced_shuffled.csv') as f:\n",
    "    with open('train_balanced_alt.csv', 'w') as fOut:\n",
    "        for idx, line in enumerate(f):\n",
    "            dom_list = [dom[0] for dom in parse_domain(line.split(',')[1])]\n",
    "            dom_arc = '|'.join(dom_list)\n",
    "            doms = [dom for dom in dom_list if dom!='d']\n",
    "            dom_arc_no_disorder = '|'.join(doms)\n",
    "            if ('d' not in dom_arc) and (dom_arc.count('PF') == 1):\n",
    "                if max([dom_count[dom] for dom in doms]) < 1 and np.random.rand()<0.03:\n",
    "                    fOut.write(line)\n",
    "                    to_keep += 1\n",
    "                    dom_arc_count[dom_arc_no_disorder] += 1\n",
    "                    for dom in doms:\n",
    "                        dom_count[dom] += 1\n",
    "            elif ('d' not in dom_arc) and (dom_arc.count('PF') > 1):\n",
    "                if np.random.rand() <= (0.5**dom_arc_count[dom_arc_no_disorder]):\n",
    "                    fOut.write(line)\n",
    "                    to_keep += 1\n",
    "                    dom_arc_count[dom_arc_no_disorder] += 1\n",
    "                    for dom in doms:\n",
    "                        dom_count[dom] += 1\n",
    "            elif ('d' in dom_arc) and (dom_arc.count('PF') == 1):\n",
    "                if np.random.rand() <= (0.03**dom_arc_count[dom_arc_no_disorder]):\n",
    "                    fOut.write(line)\n",
    "                    to_keep += 1\n",
    "                    dom_arc_count[dom_arc_no_disorder] += 1\n",
    "                    for dom in doms:\n",
    "                        dom_count[dom] += 1\n",
    "            else:\n",
    "                if np.random.rand() <= (0.7**dom_arc_count[dom_arc_no_disorder]):\n",
    "                    fOut.write(line)\n",
    "                    to_keep += 1\n",
    "                    dom_arc_count[dom_arc_no_disorder] += 1\n",
    "                    for dom in doms:\n",
    "                        dom_count[dom] += 1\n",
    "            \n",
    "print(to_keep)"
   ]
  },
  {
   "cell_type": "code",
   "execution_count": 12,
   "metadata": {},
   "outputs": [
    {
     "name": "stdout",
     "output_type": "stream",
     "text": [
      "5939\n",
      "43234\n",
      "6002\n",
      "4228\n"
     ]
    }
   ],
   "source": [
    "with open('train_balanced_alt.csv') as f:\n",
    "    sing_no_idr_counter = 0\n",
    "    mult_no_idr_counter = 0\n",
    "    sing_idr_counter = 0\n",
    "    mult_idr_counter = 0\n",
    "    for line in f:\n",
    "        dom_arc_this_prot = '|'.join([dom[0] for dom in parse_domain(line.split(',')[1])])\n",
    "        if '|' not in dom_arc_this_prot:\n",
    "            sing_no_idr_counter += 1\n",
    "        elif dom_arc_this_prot.count('PF') > 1 and not 'd' in dom_arc_this_prot:\n",
    "            mult_no_idr_counter += 1\n",
    "        elif dom_arc_this_prot.count('PF') == 1 and 'd' in dom_arc_this_prot:\n",
    "            sing_idr_counter += 1\n",
    "        else:\n",
    "            mult_idr_counter += 1\n",
    "print(sing_no_idr_counter)\n",
    "print(mult_no_idr_counter)\n",
    "print(sing_idr_counter)\n",
    "print(mult_idr_counter)"
   ]
  },
  {
   "cell_type": "code",
   "execution_count": 13,
   "metadata": {},
   "outputs": [
    {
     "name": "stdout",
     "output_type": "stream",
     "text": [
      "Processing Line 0\n",
      "[('PF08032|PF00588', 21), ('PF00076|PF00076', 21), ('PF00892|PF00892', 20), ('PF00126|PF03466', 19), ('PF02881|PF00448', 19), ('PF01281|PF03948', 19), ('PF05697|PF00254|PF05698', 19), ('PF01386|PF14693', 18), ('PF00364|PF02779|PF02780', 18), ('PF02771|PF02770|PF00441', 17), ('PF03453|PF00994|PF03454', 17), ('PF00781|PF19279', 17), ('PF07992|PF02852', 17), ('PF13499|PF13499', 17), ('PF00392|PF07729', 17), ('PF05198|PF00707', 17), ('PF14849|PF02096', 17), ('PF00333|PF03719', 17), ('PF00479|PF02781', 16), ('PF13439|PF00534', 16), ('PF01300|PF03481', 16), ('PF00153|PF00153|PF00153', 16), ('PF14622|PF00035', 16), ('PF02321|PF02321', 16), ('PF04542|PF08281', 16), ('PF13089|PF02503|PF17941|PF13090', 16), ('PF02881|PF00448|PF02978', 16), ('PF00440|PF02909', 16), ('PF01225|PF08245|PF02875', 15), ('PF00108|PF02803', 15), ('PF05201|PF01488|PF00745', 15), ('PF00081|PF02777', 15), ('PF03721|PF00984|PF03720', 15), ('PF19300|PF00528', 15), ('PF01321|PF00557', 15), ('PF02737|PF00725', 15), ('PF02878|PF02879|PF02880|PF00408', 15), ('PF03755|PF08340', 15), ('PF00412|PF00412', 15), ('PF02729|PF00185', 15), ('PF01113|PF05173', 15), ('PF01138|PF03725', 15), ('PF05496|PF17864|PF05491', 15), ('PF00571|PF00571', 15), ('PF02576|PF17384', 15), ('PF00392|PF07702', 15), ('PF22435|PF00588', 15), ('PF02749|PF01729', 15), ('PF00111|PF01799', 15), ('PF01895|PF01895', 15), ('PF02746|PF13378', 15), ('PF00281|PF00673', 15), ('PF00042|PF00970|PF00175', 15), ('PF03946|PF00298', 15), ('PF00154|PF21096', 15), ('PF00072|PF00196', 15), ('PF01883|PF10609', 15), ('PF05222|PF01262', 15), ('PF00440|PF13305', 15), ('PF00575|PF00575|PF00575|PF00575', 15), ('PF13456|PF00300', 15), ('PF08590|PF01713', 15), ('PF02899|PF00589', 14), ('PF07991|PF01450', 14), ('PF01118|PF02774', 14), ('PF01336|PF00152', 14), ('PF01571|PF08669', 14), ('PF02558|PF08546', 14), ('PF00056|PF02866', 14), ('PF01726|PF00717', 14), ('PF00438|PF02772|PF02773', 14), ('PF02779|PF02780', 14), ('PF01782|PF05239', 14), ('PF20260|PF04452', 14), ('PF00941|PF03450', 14), ('PF00763|PF02882', 14), ('PF00289|PF02786|PF02785', 14), ('PF00586|PF02769', 14), ('PF00764|PF20979', 14), ('PF02931|PF02932', 14), ('PF00582|PF00582', 14), ('PF07690|PF07690', 14), ('PF08220|PF00455', 14), ('PF00440|PF16859', 14), ('PF00191|PF00191|PF00191|PF00191', 14), ('PF03446|PF14833', 14), ('PF13393|PF03129', 14), ('PF00440|PF21351', 14), ('PF00677|PF00677', 14), ('PF02788|PF00016', 14), ('PF01595|PF00571|PF00571|PF03471', 14), ('PF01168|PF00842', 14), ('PF13742|PF02601', 14), ('PF03462|PF00472', 14), ('PF00440|PF21597', 14), ('PF02559|PF21095', 14), ('PF03446|PF00393', 14), ('PF01379|PF03900', 14), ('PF02885|PF00591', 14), ('PF00361|PF06444', 14)]\n",
      "30224\n"
     ]
    }
   ],
   "source": [
    "from collections import Counter\n",
    "\n",
    "train_balanced_dom_arcs = []\n",
    "with open('train_balanced_alt.csv') as f:\n",
    "    for idx, line in enumerate(f):\n",
    "        train_balanced_dom_arcs.append('|'.join([dom[0] for dom in parse_domain(line.split(',')[1]) if dom[0]!='d']))\n",
    "        if idx % 1000000 == 0:\n",
    "            clear_output()\n",
    "            print(f'Processing Line {idx}')\n",
    "\n",
    "train_balanced_dom_arcs = Counter(train_balanced_dom_arcs)\n",
    "print(train_balanced_dom_arcs.most_common(100))\n",
    "print(len(train_balanced_dom_arcs))"
   ]
  }
 ],
 "metadata": {
  "kernelspec": {
   "display_name": "BioInf",
   "language": "python",
   "name": "python3"
  },
  "language_info": {
   "codemirror_mode": {
    "name": "ipython",
    "version": 3
   },
   "file_extension": ".py",
   "mimetype": "text/x-python",
   "name": "python",
   "nbconvert_exporter": "python",
   "pygments_lexer": "ipython3",
   "version": "3.9.18"
  }
 },
 "nbformat": 4,
 "nbformat_minor": 2
}
