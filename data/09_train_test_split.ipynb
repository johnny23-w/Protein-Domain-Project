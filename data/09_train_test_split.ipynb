{
 "cells": [
  {
   "cell_type": "code",
   "execution_count": 1,
   "metadata": {},
   "outputs": [],
   "source": [
    "import pandas as pd\n",
    "import csv\n",
    "from IPython.display import clear_output"
   ]
  },
  {
   "cell_type": "code",
   "execution_count": 5,
   "metadata": {},
   "outputs": [],
   "source": [
    "def parse_domain(dom_str):\n",
    "\n",
    "    def sort_domains(domain_list):\n",
    "        idx = sorted(range(len(domain_list)), key=lambda k: domain_list[k][1][0])\n",
    "        return [domain_list[i] for i in idx]\n",
    "\n",
    "    unsorted = [[it[0], list(map(int, it[1].split(':')))] for it in (dom.split(';') for dom in dom_str.split('|'))]\n",
    "\n",
    "    return sort_domains(unsorted)\n",
    "\n",
    "\n",
    "def count_real_domains(dom_list):\n",
    "    return len([dom for dom in dom_list if dom[0]!='d' and dom[0][0]!='m'])\n",
    "\n",
    "\n",
    "def train_seq_disjoint(dom_list, test_doms):\n",
    "    return set([dom[0] for dom in dom_list]).isdisjoint(test_doms)"
   ]
  },
  {
   "cell_type": "code",
   "execution_count": 3,
   "metadata": {},
   "outputs": [
    {
     "name": "stdout",
     "output_type": "stream",
     "text": [
      "Processing Line 26000000\n"
     ]
    }
   ],
   "source": [
    "with open('coverage_proteins_UR90.csv') as f:\n",
    "    with open('coverage_proteins_UR90_no_short.csv', 'w') as fOut:\n",
    "        for idx, line in enumerate(f):\n",
    "            if 2000 >= int(line[:-1].split(',')[2]) >= 40:\n",
    "                fOut.write(line)\n",
    "            if idx % 1000000 == 0:\n",
    "                clear_output()\n",
    "                print(f'Processing Line {idx}')"
   ]
  },
  {
   "cell_type": "code",
   "execution_count": 6,
   "metadata": {},
   "outputs": [
    {
     "name": "stdout",
     "output_type": "stream",
     "text": [
      "Processing Line 26000000\n",
      "[('PF00892', 287551), ('PF03466', 270772), ('PF00126', 261372), ('PF00072', 246007), ('PF00903', 156929), ('PF00440', 146419), ('PF00248', 136479), ('PF00115', 131203), ('PF00571', 130854), ('PF00171', 125080), ('PF00378', 123739), ('PF07992', 121636), ('PF00392', 116550), ('PF00582', 104952), ('PF00441', 95950), ('PF02771', 94349), ('PF02770', 93753), ('PF07690', 93291), ('PF00153', 92865), ('PF01850', 88389)]\n",
      "19031\n",
      "{'PF22435', 'PF00561', 'PF00298', 'PF01470', 'PF13548', 'PF07505', 'PF21761', 'PF02548', 'PF01782', 'PF00453', 'PF00576', 'PF01895', 'PF00383', 'PF05960', 'PF00311', 'PF10722', 'PF00142', 'PF00682', 'PF03949', 'PF06250', 'PF01176', 'PF02405', 'PF01156', 'PF13673', 'PF17209', 'PF09838', 'PF06938', 'PF04101', 'PF01850', 'PF03472', 'PF00152', 'PF00111', 'PF01245', 'PF02782', 'PF04402', 'PF22025', 'PF01008', 'PF01927', 'PF14841', 'PF05656', 'PF02586', 'PF01313', 'PF19289', 'PF01609', 'PF01381', 'PF13853', 'PF01172', 'PF02511', 'PF09388', 'PF15919', 'PF04227', 'PF13393', 'PF00893', 'PF01145', 'PF00902', 'PF02575', 'PF12158', 'PF00145', 'PF00464', 'PF02110', 'PF00596', 'PF13407', 'PF02753', 'PF00936', 'PF08340', 'PF02673', 'PF06013', 'PF05521', 'PF08279', 'PF02127', 'PF08713', 'PF00124', 'PF13356', 'PF02581', 'PF00455', 'PF00370', 'PF04365', 'PF02374', 'PF14368', 'PF08281', 'PF20730', 'PF00941', 'PF02632', 'PF04149', 'PF00892', 'PF03626', 'PF01168', 'PF03463', 'PF01272', 'PF00235', 'PF12849', 'PF01648', 'PF01198', 'PF01678', 'PF02381', 'PF02021', 'PF02823', 'PF04909', 'PF06966', 'PF06980', 'PF04321', 'PF00923', 'PF01928', 'PF00745', 'PF01459', 'PF02153', 'PF03994', 'PF02590', 'PF04327', 'PF05685', 'PF00026', 'PF10861', 'PF00498', 'PF01625', 'PF00384', 'PF00108', 'PF04297', 'PF04296', 'PF03960', 'PF06808', 'PF04030', 'PF02308', 'PF01676', 'PF04250', 'PF00982', 'PF05683', 'PF00033', 'PF00593', 'PF00516', 'PF00856', 'PF01740', 'PF18913', 'PF01610', 'PF00857', 'PF03894', 'PF05936', 'PF02310', 'PF04070', 'PF17392', 'PF07398', 'PF05721', 'PF01784', 'PF13458', 'PF03966', 'PF13192', 'PF07736', 'PF03631', 'PF17763', 'PF04362', 'PF04960', 'PF04186', 'PF09996', 'PF01575', 'PF04023', 'PF13744', 'PF01872', 'PF01984', 'PF01875', 'PF00756', 'PF11823', 'PF01687', 'PF04020', 'PF04364', 'PF13239', 'PF09527', 'PF01161', 'PF05717', 'PF01983', 'PF01588', 'PF12679', 'PF05258', 'PF04542', 'PF03476', 'PF04679', 'PF02503', 'PF07690', 'PF05751', 'PF04221', 'PF02126', 'PF04012', 'PF03143', 'PF02748', 'PF06130', 'PF01996', 'PF20432', 'PF02660', 'PF00366', 'PF03473', 'PF03695', 'PF00035', 'PF13462', 'PF04237', 'PF01014', 'PF01472', 'PF00173', 'PF13460', 'PF14526', 'PF02971', 'PF02347', 'PF00061', 'PF01891', 'PF01195', 'PF07336', 'PF02367', 'PF03595', 'PF05853', 'PF02771', 'PF02519', 'PF01894', 'PF00221', 'PF17384', 'PF22042', 'PF22769', 'PF04405', 'PF02774', 'PF00153', 'PF00046', 'PF01052', 'PF06676', 'PF02570', 'PF04380', 'PF03819', 'PF14693', 'PF02797', 'PF14306', 'PF00764', 'PF02931', 'PF01132', 'PF07456', 'PF03776', 'PF18962', 'PF02962', 'PF01790', 'PF01322', 'PF02417', 'PF06508', 'PF01451', 'PF13470', 'PF01869', 'PF03610', 'PF04204', 'PF02826', 'PF02254', 'PF05591', 'PF00237', 'PF03266', 'PF02572', 'PF14248', 'PF02633', 'PF13581', 'PF12900', 'PF00251', 'PF00226', 'PF00749', 'PF17761', 'PF02737', 'PF13564', 'PF00698', 'PF07750', 'PF00416', 'PF02767', 'PF01920', 'PF01314', 'PF00551', 'PF10298', 'PF01297', 'PF00196', 'PF02953', 'PF01230', 'PF08448', 'PF00562', 'PF02773', 'PF00202', 'PF05610', 'PF11799', 'PF13243', 'PF00302', 'PF00137', 'PF04657', 'PF09723', 'PF03465', 'PF03706', 'PF09722', 'PF02502', 'PF00349', 'PF01351', 'PF04172', 'PF00082', 'PF02668', 'PF17293', 'PF00246', 'PF02136', 'PF02358', 'PF07291', 'PF01151', 'PF09704', 'PF02049', 'PF12705', 'PF00326', 'PF02119', 'PF04832', 'PF07308', 'PF00507', 'PF01641', 'PF02472', 'PF03649', 'PF12867', 'PF01934', 'PF03721', 'PF16499', 'PF07110', 'PF11127', 'PF00709', 'PF05175', 'PF05962', 'PF01883', 'PF13631', 'PF01938', 'PF05947', 'PF05154', 'PF00223', 'PF02601', 'PF22660', 'PF01906', 'PF10604', 'PF13686', 'PF20408', 'PF03952', 'PF04962', 'PF03320', 'PF06686', 'PF00595', 'PF00333', 'PF03601', 'PF04977', 'PF01992', 'PF00244', 'PF00294', 'PF13102', 'PF02073', 'PF01220', 'PF14246', 'PF17851', 'PF01432', 'PF20979', 'PF09721', 'PF03737', 'PF02036', 'PF00301', 'PF00435', 'PF00281', 'PF04964', 'PF13858', 'PF06172', 'PF00312', 'PF01887', 'PF14329', 'PF00025', 'PF01228', 'PF01930', 'PF07005', 'PF04999', 'PF02492', 'PF02163', 'PF04536', 'PF00542', 'PF08984', 'PF09754', 'PF00462', 'PF03946', 'PF03561', 'PF01208', 'PF09413', 'PF09363', 'PF01741', 'PF18029', 'PF00825', 'PF03334', 'PF00186', 'PF05768', 'PF03806', 'PF06983', 'PF00135', 'PF01112', 'PF11975', 'PF16859', 'PF00191', 'PF01729', 'PF03144', 'PF01098', 'PF00814', 'PF03733', 'PF01189', 'PF01557', 'PF17938', 'PF04025', 'PF00240', 'PF02245', 'PF03780', 'PF01327', 'PF04073', 'PF07475', 'PF00209', 'PF02265', 'PF02955', 'PF01458', 'PF07929', 'PF11139', 'PF13023', 'PF00625', 'PF10387', 'PF00241', 'PF01113', 'PF00873', 'PF00324', 'PF00091', 'PF01070', 'PF00355', 'PF01386', 'PF00571', 'PF07927', 'PF02130', 'PF05681', 'PF02386', 'PF00494', 'PF10400', 'PF00472', 'PF00550', 'PF00534', 'PF11794', 'PF02461', 'PF10041', 'PF01182', 'PF04002', 'PF07714', 'PF00753', 'PF00895', 'PF03972', 'PF09907', 'PF04752', 'PF12769', 'PF07991', 'PF01321', 'PF03352', 'PF03313', 'PF13419', 'PF07282', 'PF00089', 'PF05699', 'PF01642', 'PF03575', 'PF00994', 'PF01904', 'PF03454', 'PF07470', 'PF08719', 'PF00248', 'PF01967', 'PF10003', 'PF00356', 'PF13521', 'PF00438', 'PF02665', 'PF02882', 'PF00401', 'PF03992', 'PF09490', 'PF01406', 'PF22740', 'PF00069', 'PF06155', 'PF01206', 'PF09834', 'PF02623', 'PF19290', 'PF05013', 'PF00179', 'PF03264', 'PF00158', 'PF06243', 'PF06745', 'PF12850', 'PF00656', 'PF04051', 'PF01121', 'PF01144', 'PF05201', 'PF02255', 'PF02852', 'PF01521', 'PF13090', 'PF13473', 'PF10609', 'PF01361', 'PF04304', 'PF06089', 'PF00929', 'PF07277', 'PF03965', 'PF00692', 'PF00290', 'PF13609', 'PF22700', 'PF00022', 'PF01951', 'PF03862', 'PF13577', 'PF08125', 'PF05930', 'PF13822', 'PF02350', 'PF06262', 'PF06738', 'PF13358', 'PF08338', 'PF02583', 'PF01797', 'PF00884', 'PF00119', 'PF03100', 'PF21447', 'PF00984', 'PF07883', 'PF02678', 'PF00154', 'PF04386', 'PF07081', 'PF13098', 'PF02696', 'PF04995', 'PF08543', 'PF12822', 'PF00216', 'PF08207', 'PF01281', 'PF00331', 'PF00144', 'PF10728', 'PF00908', 'PF01384', 'PF02796', 'PF00289', 'PF02568', 'PF02978', 'PF01509', 'PF21096', 'PF03321', 'PF04143', 'PF00348', 'PF00011', 'PF01497', 'PF01884', 'PF14842', 'PF16916', 'PF04290', 'PF07670', 'PF03977', 'PF03576', 'PF01300', 'PF00389', 'PF13579', 'PF04379', 'PF02653', 'PF00591', 'PF01627', 'PF01548', 'PF00408', 'PF03764', 'PF07992', 'PF00687', 'PF12893', 'PF19567', 'PF00249', 'PF03928', 'PF01371', 'PF00768', 'PF02540', 'PF00188', 'PF02699', 'PF00933', 'PF21834', 'PF00724', 'PF09694', 'PF13361', 'PF02814', 'PF02687', 'PF02932', 'PF19303', 'PF11774', 'PF09360', 'PF10049', 'PF01746', 'PF12680', 'PF01155', 'PF01124', 'PF03881', 'PF16321', 'PF08450', 'PF14278', 'PF06779', 'PF17391', 'PF02694', 'PF06821', 'PF13520', 'PF09298', 'PF08818', 'PF19571', 'PF08546', 'PF00113', 'PF00327', 'PF00381', 'PF00920', 'PF13452', 'PF06993', 'PF00419', 'PF02645', 'PF03446', 'PF02909', 'PF01087', 'PF00075', 'PF06386', 'PF02609', 'PF03060', 'PF05872', 'PF02610', 'PF09685', 'PF01248', 'PF09361', 'PF00499', 'PF00410', 'PF08395', 'PF00358', 'PF07944', 'PF01916', 'PF00430', 'PF07971', 'PF00335', 'PF00227', 'PF03481', 'PF07837', 'PF00977', 'PF04545', 'PF07609', 'PF00079', 'PF12838', 'PF02569', 'PF05222', 'PF02525', 'PF00490', 'PF08240', 'PF00481', 'PF11821', 'PF01210', 'PF00888', 'PF03658', 'PF07729', 'PF01725', 'PF01048', 'PF01036', 'PF10531', 'PF13417', 'PF00009', 'PF04359', 'PF08808', 'PF04616', 'PF00030', 'PF01968', 'PF00403', 'PF00390', 'PF01709', 'PF03840', 'PF00664', 'PF01329', 'PF04519', 'PF00146', 'PF07080', 'PF02600', 'PF01250', 'PF00501', 'PF20510', 'PF13977', 'PF03061', 'PF10066', 'PF00456', 'PF00717', 'PF20398', 'PF18480', 'PF01699', 'PF00392', 'PF00871', 'PF00448', 'PF02652', 'PF02705', 'PF00450', 'PF01555', 'PF00194', 'PF02219', 'PF02881', 'PF04828', 'PF02911', 'PF00479', 'PF14622', 'PF03883', 'PF03358', 'PF00817', 'PF08843', 'PF13593', 'PF01747', 'PF13380', 'PF10094', 'PF02770', 'PF13656', 'PF02589', 'PF16925', 'PF02599', 'PF02768', 'PF00808', 'PF04972', 'PF01878', 'PF00909', 'PF01348', 'PF04951', 'PF10035', 'PF04341', 'PF07866', 'PF01012', 'PF00112', 'PF00317', 'PF01590', 'PF03447', 'PF12811', 'PF13185', 'PF07366', 'PF00866', 'PF01804', 'PF23016', 'PF01035', 'PF06439', 'PF03055', 'PF04993', 'PF00004', 'PF04307', 'PF02604', 'PF10459', 'PF05232', 'PF00733', 'PF04551', 'PF00120', 'PF01408', 'PF02639', 'PF14497', 'PF06463', 'PF00125', 'PF01926', 'PF13346', 'PF01037', 'PF02397', 'PF13193', 'PF19300', 'PF01455', 'PF00581', 'PF00990', 'PF04043', 'PF17746', 'PF01594', 'PF00077', 'PF07171', 'PF05545', 'PF00164', 'PF01177', 'PF11950', 'PF09990', 'PF00677', 'PF01264', 'PF04608', 'PF01523', 'PF10262', 'PF01219', 'PF03652', 'PF08534', 'PF14509', 'PF01925', 'PF05875', 'PF01116', 'PF00486', 'PF00375', 'PF05974', 'PF03073', 'PF01066', 'PF02733', 'PF02684', 'PF00307', 'PF02790', 'PF00676', 'PF13404', 'PF04452', 'PF00147', 'PF00156', 'PF03480', 'PF01138', 'PF02588', 'PF01379', 'PF01656', 'PF16868', 'PF13474', 'PF01963', 'PF00579', 'PF21999', 'PF02900', 'PF01205', 'PF01593', 'PF10727', 'PF01022', 'PF00109', 'PF02616', 'PF01103', 'PF02080', 'PF14054', 'PF07884', 'PF00078', 'PF03328', 'PF06253', 'PF11367', 'PF02547', 'PF01026', 'PF00797', 'PF04525', 'PF01423', 'PF09359', 'PF00712', 'PF01253', 'PF16123', 'PF00006', 'PF08889', 'PF09341', 'PF13505', 'PF02233', 'PF00201', 'PF00347', 'PF00203', 'PF01712', 'PF02075', 'PF01871', 'PF02541', 'PF03551', 'PF02915', 'PF08449', 'PF03479', 'PF02452', 'PF07228', 'PF02449', 'PF01425', 'PF01025', 'PF11553', 'PF14464', 'PF02781', 'PF02894', 'PF06039', 'PF03279', 'PF13386', 'PF00517', 'PF02561', 'PF09844', 'PF06197', 'PF00590', 'PF01933', 'PF00318', 'PF04075', 'PF01817', 'PF01268', 'PF06574', 'PF01142', 'PF03259', 'PF16491', 'PF03009', 'PF02056', 'PF04115', 'PF02325', 'PF01503', 'PF14031', 'PF07007', 'PF03969', 'PF02901', 'PF17805', 'PF00861', 'PF09349', 'PF22776', 'PF00014', 'PF01750', 'PF12704', 'PF04168', 'PF02772', 'PF00316', 'PF07332', 'PF03323', 'PF08443', 'PF00800', 'PF00359', 'PF16658', 'PF00391', 'PF12802', 'PF01292', 'PF00275', 'PF13622', 'PF02738', 'PF02628', 'PF00407', 'PF00239', 'PF13359', 'PF11104', 'PF16901', 'PF01435', 'PF13340', 'PF01197', 'PF03786', 'PF12441', 'PF12728', 'PF03725', 'PF05636', 'PF01039', 'PF00535', 'PF01346', 'PF00483', 'PF01582', 'PF07237', 'PF01323', 'PF01510', 'PF02662', 'PF12698', 'PF02675', 'PF14588', 'PF18765', 'PF03091', 'PF02614', 'PF00815', 'PF07478', 'PF01227', 'PF13701', 'PF00793', 'PF01042', 'PF11964', 'PF03102', 'PF05071', 'PF00468', 'PF09905', 'PF01242', 'PF14340', 'PF01131', 'PF01643', 'PF01944', 'PF02700', 'PF00254', 'PF01924', 'PF00117', 'PF00939', 'PF02424', 'PF00743', 'PF20629', 'PF05524', 'PF13443', 'PF01814', 'PF02654', 'PF01757', 'PF20737', 'PF19269', 'PF05697', 'PF00957', 'PF04265', 'PF06108', 'PF09976', 'PF02875', 'PF03948', 'PF06912', 'PF00697', 'PF07479', 'PF11706', 'PF04539', 'PF02926', 'PF06055', 'PF05239', 'PF04376', 'PF01312', 'PF00067', 'PF00329', 'PF02643', 'PF02834', 'PF07969', 'PF03547', 'PF04952', 'PF10017', 'PF01040', 'PF03937', 'PF01063', 'PF08780', 'PF00106', 'PF13366', 'PF00463', 'PF05618', 'PF02996', 'PF17932', 'PF14255', 'PF00274', 'PF00420', 'PF00043', 'PF04892', 'PF07394', 'PF03719', 'PF14437', 'PF04138', 'PF03900', 'PF00398', 'PF19295', 'PF03471', 'PF13277', 'PF01820', 'PF07679', 'PF03705', 'PF17769', 'PF03364', 'PF05638', 'PF02416', 'PF05437', 'PF02445', 'PF04209', 'PF03874', 'PF02092', 'PF07238', 'PF07021', 'PF00102', 'PF04314', 'PF00573', 'PF02866', 'PF07943', 'PF02683', 'PF00032', 'PF19580', 'PF04055', 'PF00891', 'PF13472', 'PF03485', 'PF08532', 'PF00110', 'PF00155', 'PF07075', 'PF00547', 'PF09678', 'PF00337', 'PF01988', 'PF04306', 'PF00821', 'PF01316', 'PF03544', 'PF03739', 'PF00872', 'PF02659', 'PF06628', 'PF07364', 'PF03567', 'PF20582', 'PF03203', 'PF04264', 'PF06224', 'PF08244', 'PF08666', 'PF00999', 'PF01139', 'PF06444', 'PF02342', 'PF01430', 'PF03050', 'PF13442', 'PF07045', 'PF04339', 'PF01595', 'PF02594', 'PF09364', 'PF02538', 'PF02739', 'PF00141', 'PF08768', 'PF18919', 'PF00750', 'PF08570', 'PF04552', 'PF03006', 'PF05163', 'PF07859', 'PF02221', 'PF03899', 'PF04228', 'PF07978', 'PF03749', 'PF13466', 'PF03702', 'PF02617', 'PF17767', 'PF00160', 'PF00622', 'PF00198', 'PF00081', 'PF06305', 'PF13828', 'PF00175', 'PF05857', 'PF02991', 'PF00885', 'PF01053', 'PF12146', 'PF03167', 'PF02190', 'PF01105', 'PF05719', 'PF01539', 'PF10282', 'PF01544', 'PF02527', 'PF16363', 'PF00995', 'PF22234', 'PF07311', 'PF08245', 'PF04893', 'PF17940', 'PF02565', 'PF00238', 'PF00587', 'PF01738', 'PF10566', 'PF17941', 'PF00572', 'PF01226', 'PF17954', 'PF03693', 'PF04456', 'PF00330', 'PF02423', 'PF01491', 'PF00834', 'PF14384', 'PF01081', 'PF14691', 'PF00657', 'PF02559', 'PF20974', 'PF06835', 'PF13499', 'PF01244', 'PF02467', 'PF00271', 'PF14527', 'PF01855', 'PF17864', 'PF04983', 'PF19305', 'PF21597', 'PF01016', 'PF01262', 'PF02074', 'PF01427', 'PF03951', 'PF00665', 'PF03437', 'PF02803', 'PF05114', 'PF00270', 'PF20736', 'PF09351', 'PF07331', 'PF00497', 'PF03959', 'PF04285', 'PF12127', 'PF00557', 'PF01980', 'PF02391', 'PF04279', 'PF01106', 'PF02602', 'PF00520', 'PF19278', 'PF02223', 'PF00059', 'PF09424', 'PF03357', 'PF00730', 'PF00469', 'PF02571', 'PF00166', 'PF01325', 'PF01717', 'PF02595', 'PF08032', 'PF01370', 'PF02028', 'PF03773', 'PF00580', 'PF06107', 'PF03319', 'PF00001', 'PF02621', 'PF01256', 'PF04493', 'PF20260', 'PF00218', 'PF01395', 'PF22451', 'PF21906', 'PF03929', 'PF02650', 'PF04267', 'PF00063', 'PF10127', 'PF03116', 'PF04672', 'PF12833', 'PF00510', 'PF04014', 'PF01964', 'PF06945', 'PF01467', 'PF03755', 'PF06080', 'PF02603', 'PF00809', 'PF01263', 'PF00042', 'PF00530', 'PF00303', 'PF05378', 'PF00998', 'PF03918', 'PF00575', 'PF04079', 'PF01409', 'PF07724', 'PF00440', 'PF05198', 'PF05742', 'PF01126', 'PF03450', 'PF00297', 'PF00636', 'PF07727', 'PF04973', 'PF05866', 'PF02681', 'PF05296', 'PF05728', 'PF01985', 'PF01029', 'PF03738', 'PF02626', 'PF00759', 'PF12796', 'PF00695', 'PF05336', 'PF00293', 'PF00710', 'PF03950', 'PF10025', 'PF14026', 'PF07876', 'PF01152', 'PF01225', 'PF13467', 'PF02863', 'PF06175', 'PF03255', 'PF00850', 'PF04134', 'PF04263', 'PF05523', 'PF01969', 'PF07155', 'PF00574', 'PF00072', 'PF12697', 'PF13801', 'PF02261', 'PF00931', 'PF00822', 'PF02627', 'PF02277', 'PF09827', 'PF01813', 'PF02447', 'PF21244', 'PF02224', 'PF03621', 'PF02657', 'PF00041', 'PF01649', 'PF03453', 'PF00701', 'PF04978', 'PF04145', 'PF01584', 'PF02812', 'PF05067', 'PF02779', 'PF00296', 'PF07793', 'PF02801', 'PF01180', 'PF11967', 'PF01981', 'PF00291', 'PF03781', 'PF00685', 'PF01541', 'PF04029', 'PF05958', 'PF13411', 'PF01874', 'PF01261', 'PF02272', 'PF21943', 'PF10431', 'PF05424', 'PF04430', 'PF01515', 'PF00679', 'PF16242', 'PF05661', 'PF02746', 'PF00149', 'PF00505', 'PF05331', 'PF03348', 'PF05135', 'PF02879', 'PF03379', 'PF00314', 'PF01174', 'PF07977', 'PF00890', 'PF05648', 'PF00412', 'PF01613', 'PF03720', 'PF01970', 'PF17678', 'PF07152', 'PF02912', 'PF08246', 'PF20772', 'PF00585', 'PF01597', 'PF01471', 'PF00487', 'PF14492', 'PF00185', 'PF01960', 'PF01571', 'PF13377', 'PF00762', 'PF02086', 'PF04295', 'PF08811', 'PF00048', 'PF14534', 'PF04954', 'PF04612', 'PF01560', 'PF17297', 'PF04255', 'PF01885', 'PF03349', 'PF01311', 'PF01175', 'PF05991', 'PF17042', 'PF05138', 'PF01058', 'PF16198', 'PF08734', 'PF01923', 'PF02730', 'PF01751', 'PF01592', 'PF04965', 'PF01566', 'PF00584', 'PF04093', 'PF00126', 'PF02949', 'PF02606', 'PF00903', 'PF00485', 'PF00148', 'PF05402', 'PF03123', 'PF00503', 'PF16320', 'PF01706', 'PF08837', 'PF13597', 'PF01476', 'PF02469', 'PF00083', 'PF02669', 'PF00265', 'PF00231', 'PF05496', 'PF00886', 'PF02674', 'PF04751', 'PF04245', 'PF02113', 'PF00480', 'PF03151', 'PF01554', 'PF11716', 'PF01810', 'PF04461', 'PF01812', 'PF01269', 'PF01809', 'PF00133', 'PF03740', 'PF00731', 'PF01411', 'PF00970', 'PF11160', 'PF01315', 'PF02222', 'PF16653', 'PF02464', 'PF00424', 'PF03129', 'PF00028', 'PF03401', 'PF00830', 'PF03922', 'PF14539', 'PF00725', 'PF11209', 'PF13305', 'PF04392', 'PF07722', 'PF01165', 'PF04794', 'PF03830', 'PF01259', 'PF14508', 'PF00232', 'PF00528', 'PF02401', 'PF21082', 'PF03464', 'PF00276', 'PF18146', 'PF01902', 'PF01192', 'PF04303', 'PF02742', 'PF09285', 'PF04305', 'PF05690', 'PF03597', 'PF01546', 'PF04444', 'PF02878', 'PF00258', 'PF02518', 'PF00696', 'PF13601', 'PF01118', 'PF05746', 'PF17930', 'PF01722', 'PF13590', 'PF04026', 'PF07873', 'PF01558', 'PF01551', 'PF10370', 'PF10006', 'PF05016', 'PF02545', 'PF08669', 'PF18030', 'PF08770', 'PF02230', 'PF01739', 'PF02951', 'PF00378', 'PF13426', 'PF05347', 'PF02388', 'PF03692', 'PF02777', 'PF14009', 'PF12823', 'PF01339', 'PF00206', 'PF13187', 'PF01799', 'PF04956', 'PF01636', 'PF02537', 'PF04069', 'PF01713', 'PF13396', 'PF05525', 'PF00651', 'PF05635', 'PF11162', 'PF00230', 'PF01187', 'PF16113', 'PF10670', 'PF01169', 'PF02769', 'PF00162', 'PF03186', 'PF01783', 'PF01420', 'PF00195', 'PF01545', 'PF02348', 'PF05491', 'PF00199', 'PF04412', 'PF03069', 'PF03169', 'PF05448', 'PF07638', 'PF00332', 'PF01266', 'PF22022', 'PF00471', 'PF01909', 'PF00345', 'PF01232', 'PF02556', 'PF00436', 'PF03724', 'PF00084', 'PF01201', 'PF13683', 'PF03727', 'PF04377', 'PF01221', 'PF09720', 'PF00828', 'PF08712', 'PF00905', 'PF05532', 'PF02744', 'PF05795', 'PF00763', 'PF06230', 'PF00950', 'PF13806', 'PF09991', 'PF01502', 'PF05173', 'PF06133', 'PF00586', 'PF04024', 'PF11306', 'PF05035', 'PF01487', 'PF00476', 'PF03746', 'PF08327', 'PF02514', 'PF00719', 'PF09346', 'PF03466', 'PF02576', 'PF13495', 'PF02867', 'PF04463', 'PF01903', 'PF01475', 'PF13619', 'PF08328', 'PF06949', 'PF06167', 'PF01863', 'PF00975', 'PF03241', 'PF18306', 'PF20257', 'PF00215', 'PF03331', 'PF06041', 'PF01914', 'PF01965', 'PF01196', 'PF00013', 'PF01931', 'PF13409', 'PF01937', 'PF02677', 'PF04371', 'PF01488', 'PF05194', 'PF00021', 'PF02719', 'PF00361', 'PF00129', 'PF00782', 'PF07686', 'PF02580', 'PF03613', 'PF03435', 'PF00582', 'PF00543', 'PF00887', 'PF05977', 'PF01565', 'PF00742', 'PF02321', 'PF00005', 'PF13276', 'PF00583', 'PF13350', 'PF06941', 'PF02422', 'PF05221', 'PF09186', 'PF01773', 'PF00623', 'PF04166', 'PF01041', 'PF00883', 'PF00781', 'PF02788', 'PF05973', 'PF02780', 'PF04298', 'PF03795', 'PF00034', 'PF10027', 'PF14542', 'PF20463', 'PF01090', 'PF05140', 'PF03668', 'PF01940', 'PF02682', 'PF10079', 'PF02578', 'PF02896', 'PF00300', 'PF04535', 'PF02104', 'PF01474', 'PF08922', 'PF02622', 'PF01679', 'PF00364', 'PF03971', 'PF21716', 'PF04095', 'PF00589', 'PF02800', 'PF00016', 'PF02634', 'PF08220', 'PF00118', 'PF06146', 'PF01490', 'PF06094', 'PF02597', 'PF04955', 'PF00707', 'PF13742', 'PF00858', 'PF11976', 'PF01032', 'PF03239', 'PF02033', 'PF03063', 'PF04041', 'PF01702', 'PF00969', 'PF13089', 'PF06965', 'PF01948', 'PF01084', 'PF03653', 'PF00056', 'PF02384', 'PF13532', 'PF00252', 'PF01668', 'PF00224', 'PF00874', 'PF03606', 'PF02786', 'PF01202', 'PF00171', 'PF00829', 'PF05544', 'PF12732', 'PF02607', 'PF01095', 'PF01494', 'PF01527', 'PF13711', 'PF03825', 'PF00558', 'PF02302', 'PF01842', 'PF13439', 'PF21095', 'PF00380', 'PF02749', 'PF00085', 'PF00269', 'PF00755', 'PF04480', 'PF03030', 'PF06769', 'PF04342', 'PF02887', 'PF00425', 'PF03861', 'PF01824', 'PF00704', 'PF01695', 'PF02899', 'PF00253', 'PF03594', 'PF03070', 'PF00881', 'PF03140', 'PF02567', 'PF00334', 'PF20789', 'PF03477', 'PF07654', 'PF03180', 'PF09674', 'PF13378', 'PF05099', 'PF07662', 'PF04397', 'PF01120', 'PF02441', 'PF02885', 'PF00012', 'PF01367', 'PF00668', 'PF08533', 'PF00038', 'PF01217', 'PF03301', 'PF17920', 'PF02050', 'PF00478', 'PF02142', 'PF07244', 'PF01062', 'PF13568', 'PF05724', 'PF03372', 'PF02446', 'PF00180', 'PF03029', 'PF04241', 'PF02482', 'PF02283', 'PF02685', 'PF06271', 'PF00443', 'PF01479', 'PF05069', 'PF02463', 'PF02574', 'PF03459', 'PF00411', 'PF04588', 'PF01496', 'PF13456', 'PF06724', 'PF16350', 'PF12821', 'PF00027', 'PF05684', 'PF00899', 'PF05168', 'PF00071', 'PF02686', 'PF01726', 'PF15738', 'PF01638', 'PF01632', 'PF00177', 'PF00771', 'PF09966', 'PF01865', 'PF02880', 'PF11751', 'PF00989', 'PF07298', 'PF13280', 'PF00261', 'PF04066', 'PF07947', 'PF00491', 'PF00266', 'PF00962', 'PF01990', 'PF01184', 'PF00699', 'PF11026', 'PF02729', 'PF01795', 'PF05229', 'PF01899', 'PF02133', 'PF01288', 'PF00225', 'PF06961', 'PF13937', 'PF00877', 'PF03788', 'PF00076', 'PF09954', 'PF01284', 'PF03947', 'PF04074', 'PF03820', 'PF01910', 'PF06865', 'PF03449', 'PF13333', 'PF03787', 'PF03734', 'PF01252', 'PF03938', 'PF00563', 'PF00588', 'PF06445', 'PF00459', 'PF10502', 'PF05988', 'PF14076', 'PF03683', 'PF04358', 'PF17754', 'PF00213', 'PF06585', 'PF01979', 'PF02798', 'PF00168', 'PF00959', 'PF04961', 'PF01127', 'PF05130', 'PF00532', 'PF04266', 'PF04474', 'PF02152', 'PF14759', 'PF09835', 'PF00211', 'PF03976', 'PF04039', 'PF00691', 'PF09957', 'PF20684', 'PF01596', 'PF00208', 'PF18376', 'PF13843', 'PF11700', 'PF07103', 'PF00926', 'PF00080', 'PF02615', 'PF02577', 'PF01068', 'PF03942', 'PF00116', 'PF00338', 'PF03315', 'PF00925', 'PF01728', 'PF10411', 'PF00313', 'PF09917', 'PF06240', 'PF12832', 'PF04340', 'PF05443', 'PF13406', 'PF04239', 'PF03330', 'PF00842', 'PF11146', 'PF00795', 'PF00465', 'PF01450', 'PF07009', 'PF04229', 'PF18152', 'PF01336', 'PF05164', 'PF02361', 'PF01207', 'PF01654', 'PF00393', 'PF01936', 'PF01128', 'PF12804', 'PF03573', 'PF21948', 'PF00169', 'PF02641', 'PF06772', 'PF04324', 'PF00831', 'PF01027', 'PF01520', 'PF09334', 'PF03443', 'PF02542', 'PF02785', 'PF02096', 'PF03747', 'PF02566', 'PF02508', 'PF00352', 'PF20732', 'PF21028', 'PF07995', 'PF04102', 'PF01991', 'PF00210', 'PF05940', 'PF03814', 'PF02504', 'PF00673', 'PF05015', 'PF12973', 'PF03618', 'PF01987', 'PF09719', 'PF06127', 'PF04127', 'PF00708', 'PF00431', 'PF17147', 'PF05025', 'PF02515', 'PF00441', 'PF04248', 'PF07411', 'PF07702', 'PF00775', 'PF02082', 'PF00285', 'PF04654', 'PF01765', 'PF08021', 'PF02322', 'PF00559', 'PF04997', 'PF00475', 'PF04442', 'PF02649', 'PF08681', 'PF04325', 'PF02433', 'PF06841', 'PF06996', 'PF13302', 'PF02579', 'PF14833', 'PF13237', 'PF00121', 'PF03079', 'PF05698', 'PF06838', 'PF03884', 'PF02635', 'PF12079', 'PF02091', 'PF02535', 'PF19279', 'PF09365', 'PF06792', 'PF06283', 'PF02870', 'PF00115', 'PF21006', 'PF02558', 'PF03462', 'PF01218', 'PF01791', 'PF22622', 'PF00578', 'PF01255', 'PF14815'}\n"
     ]
    }
   ],
   "source": [
    "from collections import Counter\n",
    "\n",
    "all_doms = []\n",
    "with open('coverage_proteins_UR90_no_short.csv') as f:\n",
    "    for idx, line in enumerate(f):\n",
    "        all_doms += [dom[0] for dom in parse_domain(line.split(',')[1]) if dom[0]!='d' and dom[0][0]!='m']\n",
    "        if idx % 1000000 == 0:\n",
    "            clear_output()\n",
    "            print(f'Processing Line {idx}')\n",
    "\n",
    "all_doms = Counter(all_doms)\n",
    "print(all_doms.most_common(20))\n",
    "print(len(all_doms))\n",
    "most_common_doms = set([dom[0] for dom in all_doms.most_common(2000)])\n",
    "print(most_common_doms)"
   ]
  },
  {
   "cell_type": "code",
   "execution_count": 16,
   "metadata": {},
   "outputs": [
    {
     "name": "stdout",
     "output_type": "stream",
     "text": [
      "Processing Line 26000000\n"
     ]
    }
   ],
   "source": [
    "with open('coverage_proteins_UR90_no_short.csv') as f:\n",
    "    with open('non_test.csv', 'w') as fNonTest:\n",
    "        with open('coverage_proteins_without_common.csv', 'w') as fOut:\n",
    "            for idx, line in enumerate(f):\n",
    "                if set([dom[0] for dom in parse_domain(line.split(',')[1]) if dom[0]!='d']).isdisjoint(most_common_doms):\n",
    "                    fOut.write(line)\n",
    "                else:\n",
    "                    fNonTest.write(line)\n",
    "                if idx % 1000000 == 0:\n",
    "                    clear_output()\n",
    "                    print(f'Processing Line {idx}')"
   ]
  },
  {
   "cell_type": "code",
   "execution_count": 17,
   "metadata": {},
   "outputs": [
    {
     "name": "stdout",
     "output_type": "stream",
     "text": [
      "Processing Line 5000000\n"
     ]
    }
   ],
   "source": [
    "with open('coverage_proteins_without_common.csv') as f:\n",
    "    with open('no_idr_proteins_without_common_single_dom.csv', 'w') as fNoIdrSing:\n",
    "        with open('no_idr_proteins_without_common_multi_dom.csv', 'w') as fNoIdrMulti:\n",
    "            with open('idr_proteins_without_common_single_dom.csv', 'w') as fIdrSing:\n",
    "                with open('idr_proteins_without_common_multi_dom.csv', 'w') as fIdrMulti:\n",
    "                    for idx, line in enumerate(f):\n",
    "                        dom_list = parse_domain(line.split(',')[1])\n",
    "                        if ('d' not in [dom[0] for dom in dom_list]) and (count_real_domains(dom_list) == 1):\n",
    "                            fNoIdrSing.write(line)\n",
    "                        elif ('d' not in [dom[0] for dom in dom_list]) and (count_real_domains(dom_list) > 1):\n",
    "                            fNoIdrMulti.write(line)\n",
    "                        elif ('d' in [dom[0] for dom in dom_list]) and (count_real_domains(dom_list) == 1):\n",
    "                            fIdrSing.write(line)\n",
    "                        else:\n",
    "                            fIdrMulti.write(line)\n",
    "                        if idx%1000000==0:\n",
    "                            clear_output()\n",
    "                            print(f'Processing Line {idx}')"
   ]
  },
  {
   "cell_type": "code",
   "execution_count": 18,
   "metadata": {},
   "outputs": [
    {
     "name": "stdout",
     "output_type": "stream",
     "text": [
      "4755875\n",
      "381487\n",
      "193326\n",
      "25045\n"
     ]
    }
   ],
   "source": [
    "with open('no_idr_proteins_without_common_single_dom.csv') as f:\n",
    "    no_idr_sing_counter = 0\n",
    "    for line in f:\n",
    "        no_idr_sing_counter += 1\n",
    "print(no_idr_sing_counter)\n",
    "with open('no_idr_proteins_without_common_multi_dom.csv') as f:\n",
    "    no_idr_mult_counter = 0\n",
    "    for line in f:\n",
    "        no_idr_mult_counter += 1\n",
    "print(no_idr_mult_counter)\n",
    "\n",
    "with open('idr_proteins_without_common_single_dom.csv') as f:\n",
    "    idr_sing_counter = 0\n",
    "    for line in f:\n",
    "        idr_sing_counter += 1\n",
    "print(idr_sing_counter)\n",
    "with open('idr_proteins_without_common_multi_dom.csv') as f:\n",
    "    idr_mult_counter = 0\n",
    "    for line in f:\n",
    "        idr_mult_counter += 1\n",
    "print(idr_mult_counter)"
   ]
  },
  {
   "cell_type": "code",
   "execution_count": 19,
   "metadata": {},
   "outputs": [],
   "source": [
    "import numpy as np\n",
    "\n",
    "no_idr_test_single_dom_ind = set(np.random.choice(a=no_idr_sing_counter, size=100, replace=False))\n",
    "no_idr_test_multi_dom_ind = set(np.random.choice(a=no_idr_mult_counter, size=2500, replace=False))\n",
    "idr_test_multi_dom_ind = set(np.random.choice(a=idr_mult_counter, size=250, replace=False))\n",
    "idr_test_single_dom_ind = set(np.random.choice(a=idr_sing_counter, size=250, replace=False))"
   ]
  },
  {
   "cell_type": "code",
   "execution_count": 20,
   "metadata": {},
   "outputs": [
    {
     "name": "stdout",
     "output_type": "stream",
     "text": [
      "Processing Line 0\n",
      "Processing Line 0\n"
     ]
    }
   ],
   "source": [
    "test_doms = set()\n",
    "\n",
    "with open('no_idr_proteins_without_common_single_dom.csv') as f:\n",
    "    with open('no_idr_single_dom_test_set.csv', 'w') as fTest:\n",
    "        with open('non_test.csv', 'a') as fNonTest:\n",
    "            for idx, line in enumerate(f):\n",
    "                if idx in no_idr_test_single_dom_ind:\n",
    "                    fTest.write(line)\n",
    "                    test_doms.update([dom[0] for dom in parse_domain(line.split(',')[1])])\n",
    "                else:\n",
    "                    fNonTest.write(line)\n",
    "                if idx % 1000000 == 0:\n",
    "                    clear_output()\n",
    "                    print(f'Processing Line {idx}')\n",
    "\n",
    "with open('no_idr_proteins_without_common_multi_dom.csv') as f:\n",
    "    with open('no_idr_multi_dom_test_set.csv', 'w') as fTest:\n",
    "        with open('non_test.csv', 'a') as fNonTest:\n",
    "            for idx, line in enumerate(f):\n",
    "                if idx in no_idr_test_multi_dom_ind:\n",
    "                    fTest.write(line)\n",
    "                    test_doms.update([dom[0] for dom in parse_domain(line.split(',')[1])])\n",
    "                else:\n",
    "                    fNonTest.write(line)\n",
    "                if idx % 1000000 == 0:\n",
    "                    print(f'Processing Line {idx}')\n",
    "\n",
    "with open('idr_proteins_without_common_single_dom.csv') as f:\n",
    "    with open('idr_single_dom_test_set.csv', 'w') as fTest:\n",
    "        with open('non_test.csv', 'a') as fNonTest:\n",
    "            for idx, line in enumerate(f):\n",
    "                if idx in idr_test_single_dom_ind:\n",
    "                    fTest.write(line)\n",
    "                    test_doms.update([dom[0] for dom in parse_domain(line.split(',')[1])])\n",
    "                else:\n",
    "                    fNonTest.write(line)\n",
    "                if idx % 1000000 == 0:\n",
    "                    clear_output()\n",
    "                    print(f'Processing Line {idx}')\n",
    "\n",
    "with open('idr_proteins_without_common_multi_dom.csv') as f:\n",
    "    with open('idr_multi_dom_test_set.csv', 'w') as fTest:\n",
    "        with open('non_test.csv', 'a') as fNonTest:\n",
    "            for idx, line in enumerate(f):\n",
    "                if idx in idr_test_multi_dom_ind:\n",
    "                    fTest.write(line)\n",
    "                    test_doms.update([dom[0] for dom in parse_domain(line.split(',')[1])])\n",
    "                else:\n",
    "                    fNonTest.write(line)\n",
    "                if idx % 1000000 == 0:\n",
    "                    print(f'Processing Line {idx}')"
   ]
  },
  {
   "cell_type": "code",
   "execution_count": 21,
   "metadata": {},
   "outputs": [
    {
     "name": "stdout",
     "output_type": "stream",
     "text": [
      "3100\n"
     ]
    }
   ],
   "source": [
    "test_ids = set()\n",
    "with open('no_idr_single_dom_test_set.csv') as f:\n",
    "    for line in f:\n",
    "        test_ids.add(line.split(',')[0])\n",
    "with open('no_idr_multi_dom_test_set.csv') as f:\n",
    "    for line in f:\n",
    "        test_ids.add(line.split(',')[0])\n",
    "with open('idr_single_dom_test_set.csv') as f:\n",
    "    for line in f:\n",
    "        test_ids.add(line.split(',')[0])\n",
    "with open('idr_multi_dom_test_set.csv') as f:\n",
    "    for line in f:\n",
    "        test_ids.add(line.split(',')[0])\n",
    "print(len(test_ids))"
   ]
  },
  {
   "cell_type": "code",
   "execution_count": 22,
   "metadata": {},
   "outputs": [],
   "source": [
    "test_doms.remove('d')"
   ]
  },
  {
   "cell_type": "code",
   "execution_count": 29,
   "metadata": {},
   "outputs": [
    {
     "name": "stdout",
     "output_type": "stream",
     "text": [
      "Processing Line: 26000000\n"
     ]
    }
   ],
   "source": [
    "with open('non_test.csv') as f:\n",
    "    with open('non_test_nr.csv', 'w') as fOut:\n",
    "        for idx, line in enumerate(f):\n",
    "            if set([dom[0] for dom in parse_domain(line.split(',')[1]) if dom[0]!='d']).isdisjoint(test_doms):\n",
    "                fOut.write(line)\n",
    "            if idx % 1000000 == 0:\n",
    "                clear_output()\n",
    "                print(f'Processing Line: {idx}')"
   ]
  }
 ],
 "metadata": {
  "kernelspec": {
   "display_name": "BioInf",
   "language": "python",
   "name": "python3"
  },
  "language_info": {
   "codemirror_mode": {
    "name": "ipython",
    "version": 3
   },
   "file_extension": ".py",
   "mimetype": "text/x-python",
   "name": "python",
   "nbconvert_exporter": "python",
   "pygments_lexer": "ipython3",
   "version": "3.9.18"
  }
 },
 "nbformat": 4,
 "nbformat_minor": 2
}
