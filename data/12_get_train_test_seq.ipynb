{
 "cells": [
  {
   "cell_type": "code",
   "execution_count": 1,
   "metadata": {},
   "outputs": [],
   "source": [
    "import csv\n",
    "import pandas as pd\n",
    "from Bio import SeqIO\n",
    "from IPython.display import clear_output"
   ]
  },
  {
   "cell_type": "code",
   "execution_count": 2,
   "metadata": {},
   "outputs": [],
   "source": [
    "test_ids = []\n",
    "\n",
    "with open('no_idr_single_dom_test_set.csv') as f:\n",
    "    reader = csv.reader(f)\n",
    "    for idx, line in enumerate(reader):\n",
    "        test_ids.append(line[0])\n",
    "with open('no_idr_multi_dom_test_set.csv') as f:\n",
    "    reader = csv.reader(f)\n",
    "    for idx, line in enumerate(reader):\n",
    "        test_ids.append(line[0])\n",
    "with open('idr_single_dom_test_set.csv') as f:\n",
    "    reader = csv.reader(f)\n",
    "    for idx, line in enumerate(reader):\n",
    "        test_ids.append(line[0])\n",
    "with open('idr_multi_dom_test_set.csv') as f:\n",
    "    reader = csv.reader(f)\n",
    "    for idx, line in enumerate(reader):\n",
    "        test_ids.append(line[0])\n",
    "\n",
    "valid_ids = []\n",
    "\n",
    "with open('valid.csv') as f:\n",
    "    reader = csv.reader(f)\n",
    "    for idx, line in enumerate(reader):\n",
    "        valid_ids.append(line[0])\n",
    "\n",
    "train_ids = []\n",
    "\n",
    "with open('train_balanced_alt.csv') as f:\n",
    "    reader = csv.reader(f)\n",
    "    for idx, line in enumerate(reader):\n",
    "        train_ids.append(line[0])\n",
    "\n",
    "all_ids = set()\n",
    "all_ids.update(train_ids)\n",
    "all_ids.update(valid_ids)\n",
    "all_ids.update(test_ids)"
   ]
  },
  {
   "cell_type": "code",
   "execution_count": 3,
   "metadata": {},
   "outputs": [
    {
     "name": "stdout",
     "output_type": "stream",
     "text": [
      "True\n",
      "True\n",
      "True\n"
     ]
    }
   ],
   "source": [
    "print(set(train_ids).isdisjoint(set(valid_ids)))\n",
    "print(set(train_ids).isdisjoint(set(test_ids)))\n",
    "print(set(valid_ids).isdisjoint(set(test_ids)))"
   ]
  },
  {
   "cell_type": "code",
   "execution_count": 4,
   "metadata": {},
   "outputs": [
    {
     "name": "stdout",
     "output_type": "stream",
     "text": [
      "59403\n",
      "59403\n",
      "4518\n",
      "4518\n",
      "3100\n",
      "3100\n"
     ]
    }
   ],
   "source": [
    "print(len(train_ids))\n",
    "print(len(set(train_ids)))\n",
    "print(len(valid_ids))\n",
    "print(len(set(valid_ids)))\n",
    "print(len(test_ids))\n",
    "print(len(set(test_ids)))"
   ]
  },
  {
   "cell_type": "code",
   "execution_count": 5,
   "metadata": {},
   "outputs": [
    {
     "name": "stdout",
     "output_type": "stream",
     "text": [
      "Processing Line 365000000\n"
     ]
    }
   ],
   "source": [
    "with open('interpro_seqs.fasta') as f:\n",
    "    with open('train_valid_test_seqs.fasta', 'w') as fOut:\n",
    "        for idx, line in enumerate(f):\n",
    "            if line[0] == '>':\n",
    "                to_add = (line[1:-1] in all_ids)\n",
    "            if to_add:\n",
    "                fOut.write(line)\n",
    "            if idx % 1000000 == 0:\n",
    "                clear_output()\n",
    "                print(f'Processing Line {idx}')"
   ]
  },
  {
   "cell_type": "code",
   "execution_count": 6,
   "metadata": {},
   "outputs": [
    {
     "name": "stdout",
     "output_type": "stream",
     "text": [
      "Row 59000\n"
     ]
    }
   ],
   "source": [
    "rec_dict = SeqIO.index('train_valid_test_seqs.fasta', 'fasta')\n",
    "\n",
    "with open('test_seq.fasta', 'a') as fOut:\n",
    "    for idx, id in enumerate(test_ids):\n",
    "        fOut.write(f'>{id}\\n{str(rec_dict[id].seq)}\\n')\n",
    "        if idx % 1000==0:\n",
    "            clear_output()\n",
    "            print(f'Row {idx}')\n",
    "\n",
    "with open('valid_seq.fasta', 'a') as fOut:\n",
    "    for idx, id in enumerate(valid_ids):\n",
    "        fOut.write(f'>{id}\\n{str(rec_dict[id].seq)}\\n')\n",
    "        if idx % 1000==0:\n",
    "            clear_output()\n",
    "            print(f'Row {idx}')\n",
    "\n",
    "with open('train_seq.fasta', 'a') as fOut:\n",
    "    for idx, id in enumerate(train_ids):\n",
    "        fOut.write(f'>{id}\\n{str(rec_dict[id].seq)}\\n')\n",
    "        if idx % 1000==0:\n",
    "            clear_output()\n",
    "            print(f'Row {idx}')"
   ]
  },
  {
   "cell_type": "code",
   "execution_count": 7,
   "metadata": {},
   "outputs": [
    {
     "name": "stdout",
     "output_type": "stream",
     "text": [
      "67021\n",
      "67021\n"
     ]
    }
   ],
   "source": [
    "print(len(train_ids) + len(valid_ids) + len(test_ids))\n",
    "print(len(all_ids))"
   ]
  },
  {
   "cell_type": "code",
   "execution_count": 8,
   "metadata": {},
   "outputs": [],
   "source": [
    "with open('train_seq.fasta') as f:\n",
    "    with open('train_seq_1.fasta', 'w') as f1:\n",
    "        with open('train_seq_2.fasta', 'w') as f2:\n",
    "            with open('train_seq_3.fasta', 'w') as f3:\n",
    "                with open('train_seq_4.fasta', 'w') as f4:\n",
    "                    counter = 0\n",
    "                    for line in f:\n",
    "                        if line[0] == '>':\n",
    "                            counter+=1\n",
    "                        if counter < 16000:\n",
    "                            f1.write(line)\n",
    "                        elif counter < 32000:\n",
    "                            f2.write(line)\n",
    "                        elif counter < 46000:\n",
    "                            f3.write(line)\n",
    "                        else:\n",
    "                            f4.write(line)"
   ]
  },
  {
   "cell_type": "code",
   "execution_count": 9,
   "metadata": {},
   "outputs": [
    {
     "name": "stdout",
     "output_type": "stream",
     "text": [
      "67021\n"
     ]
    }
   ],
   "source": [
    "with open('train_valid_test_seqs.fasta') as f:\n",
    "    counter = 0\n",
    "    for line in f:\n",
    "        if '>' in line:\n",
    "            counter += 1\n",
    "print(counter)"
   ]
  }
 ],
 "metadata": {
  "kernelspec": {
   "display_name": "BioInf",
   "language": "python",
   "name": "python3"
  },
  "language_info": {
   "codemirror_mode": {
    "name": "ipython",
    "version": 3
   },
   "file_extension": ".py",
   "mimetype": "text/x-python",
   "name": "python",
   "nbconvert_exporter": "python",
   "pygments_lexer": "ipython3",
   "version": "3.9.18"
  }
 },
 "nbformat": 4,
 "nbformat_minor": 2
}
