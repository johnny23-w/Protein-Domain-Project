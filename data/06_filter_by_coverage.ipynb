{
 "cells": [
  {
   "cell_type": "code",
   "execution_count": 1,
   "metadata": {},
   "outputs": [],
   "source": [
    "import csv\n",
    "from IPython.display import clear_output"
   ]
  },
  {
   "cell_type": "code",
   "execution_count": 2,
   "metadata": {},
   "outputs": [],
   "source": [
    "def parse_domain(dom_str):\n",
    "\n",
    "    def sort_domains(domain_list):\n",
    "        idx = sorted(range(len(domain_list)), key=lambda k: domain_list[k][1][0])\n",
    "        return [domain_list[i] for i in idx]\n",
    "\n",
    "    unsorted = [[it[0], list(map(int, it[1].split(':')))] for it in (dom.split(';') for dom in dom_str.split('|'))]\n",
    "\n",
    "    return sort_domains(unsorted)"
   ]
  },
  {
   "cell_type": "code",
   "execution_count": 3,
   "metadata": {},
   "outputs": [],
   "source": [
    "def check_gaps(sorted_doms, prot_len, intra_dom_thresh, terminal_thresh):\n",
    "\n",
    "    if len(sorted_doms) == 0:\n",
    "        return True\n",
    "    if sorted_doms[0][1][0] - 1 > terminal_thresh:\n",
    "        return True\n",
    "    end = sorted_doms[0][1][1]\n",
    "    if len(sorted_doms) > 1:\n",
    "        for _, dom in sorted_doms[1:]:\n",
    "            start = dom[0]\n",
    "            if start - end - 1 > intra_dom_thresh:\n",
    "                return True\n",
    "            else:\n",
    "                end = dom[1]\n",
    "    if prot_len - end > terminal_thresh:\n",
    "        return True\n",
    "    return False"
   ]
  },
  {
   "cell_type": "code",
   "execution_count": 4,
   "metadata": {},
   "outputs": [],
   "source": [
    "def domain_list_to_str(domain_list):\n",
    "    dom_str = ''\n",
    "    for dom in domain_list:\n",
    "        dom_str += dom[0] + ';' + str(dom[1][0]) + ':' + str(dom[1][1]) + '|'\n",
    "    return dom_str[:-1]"
   ]
  },
  {
   "cell_type": "code",
   "execution_count": 5,
   "metadata": {},
   "outputs": [],
   "source": [
    "motifs = set()\n",
    "with open('conserved_site.tsv') as f:\n",
    "    rdr = csv.reader(f, delimiter='\\t')\n",
    "    next(rdr)\n",
    "    for line in rdr:\n",
    "        motifs.add(line[0])"
   ]
  },
  {
   "cell_type": "code",
   "execution_count": 7,
   "metadata": {},
   "outputs": [
    {
     "name": "stdout",
     "output_type": "stream",
     "text": [
      "Processing line: 161000000\n"
     ]
    }
   ],
   "source": [
    "with open('complete_dataset_no_consec.csv') as f:\n",
    "    with open('gap_proteins.csv', 'w') as f_gap:\n",
    "        with open('coverage_proteins_unprocessed.csv', 'w') as f_coverage:\n",
    "            reader = csv.reader(f)\n",
    "            for idx, line in enumerate(reader):\n",
    "                annot_list = parse_domain(dom_str=line[1])\n",
    "                sorted_doms = [dom for dom in annot_list if ((dom[0] not in motifs) and (not (dom[0]=='d' and (dom[1][1]-dom[1][0]<=40))))]\n",
    "                if check_gaps(sorted_doms=sorted_doms, prot_len=int(line[2]), intra_dom_thresh=30, terminal_thresh=30):\n",
    "                    f_gap.write(line[0]+','+domain_list_to_str(annot_list)+','+line[2]+'\\n')\n",
    "                else:\n",
    "                    f_coverage.write(line[0]+','+domain_list_to_str(annot_list)+','+line[2]+'\\n')\n",
    "                if idx % 1000000 == 0:\n",
    "                    clear_output()\n",
    "                    print(f'Processing line: {idx}')"
   ]
  },
  {
   "cell_type": "code",
   "execution_count": 8,
   "metadata": {},
   "outputs": [
    {
     "name": "stdout",
     "output_type": "stream",
     "text": [
      "\n"
     ]
    }
   ],
   "source": [
    "with open('coverage_proteins_unprocessed.csv') as f:\n",
    "    with open('coverage_proteins.csv', 'w') as fOut:\n",
    "        for idx, line in enumerate(f):\n",
    "            dom_list = parse_domain(line.split(',')[1])\n",
    "            dom_list_2 = []\n",
    "            for dom in dom_list:\n",
    "                if dom[0]=='d' and dom[1][1]-dom[1][0]<=40:\n",
    "                    continue\n",
    "                elif dom[0] in motifs:\n",
    "                    dom_list_2.append(['m'+dom[0][2:], dom[1]])\n",
    "                else:\n",
    "                    dom_list_2.append(dom)\n",
    "            fOut.write(line.split(',')[0]+','+domain_list_to_str(dom_list_2)+','+line[:-1].split(',')[2]+'\\n')\n",
    "            if idx % 1000000 == 0:\n",
    "                clear_output()\n",
    "                print()"
   ]
  }
 ],
 "metadata": {
  "kernelspec": {
   "display_name": "BioInf",
   "language": "python",
   "name": "python3"
  },
  "language_info": {
   "codemirror_mode": {
    "name": "ipython",
    "version": 3
   },
   "file_extension": ".py",
   "mimetype": "text/x-python",
   "name": "python",
   "nbconvert_exporter": "python",
   "pygments_lexer": "ipython3",
   "version": "3.9.18"
  }
 },
 "nbformat": 4,
 "nbformat_minor": 2
}
