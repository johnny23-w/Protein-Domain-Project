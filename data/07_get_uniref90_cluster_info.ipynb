{
 "cells": [
  {
   "cell_type": "code",
   "execution_count": 1,
   "metadata": {},
   "outputs": [],
   "source": [
    "import gzip\n",
    "import csv\n",
    "import random\n",
    "from IPython.display import clear_output"
   ]
  },
  {
   "cell_type": "code",
   "execution_count": null,
   "metadata": {},
   "outputs": [],
   "source": [
    "with gzip.open('uniref90_clusters.gz', 'rt') as f:\n",
    "    with open('uniref90_cluster_assignments.csv', 'w') as fOut:\n",
    "        next(f)\n",
    "        for idx, line in enumerate(f):\n",
    "            cluster_member_list = [prot.split(',')[0] for prot in line[:-1].split('\\t')[1].split('; ')]\n",
    "            uniprot_member_only = [prot for prot in cluster_member_list if prot[:3] != 'UPI']\n",
    "            fOut.write(line.split('\\t')[0]+','+';'.join(uniprot_member_only)+'\\n')\n",
    "            if idx % 1000000 == 0:\n",
    "                clear_output()\n",
    "                print(f'Processing Row: {idx}')"
   ]
  },
  {
   "cell_type": "code",
   "execution_count": 2,
   "metadata": {},
   "outputs": [
    {
     "name": "stdout",
     "output_type": "stream",
     "text": [
      "Processing Line: 55000000\n"
     ]
    }
   ],
   "source": [
    "coverage_protein_set = set()\n",
    "\n",
    "with open('coverage_proteins.csv') as f:\n",
    "    rdr = csv.reader(f)\n",
    "    for idx, line in enumerate(rdr):\n",
    "        coverage_protein_set.add(line[0])\n",
    "        if idx%1000000==0:\n",
    "            clear_output()\n",
    "            print(f'Processing Line: {idx}')"
   ]
  },
  {
   "cell_type": "code",
   "execution_count": 3,
   "metadata": {},
   "outputs": [
    {
     "data": {
      "text/plain": [
       "54756216"
      ]
     },
     "execution_count": 3,
     "metadata": {},
     "output_type": "execute_result"
    }
   ],
   "source": [
    "len(coverage_protein_set)"
   ]
  },
  {
   "cell_type": "code",
   "execution_count": 3,
   "metadata": {},
   "outputs": [
    {
     "name": "stdout",
     "output_type": "stream",
     "text": [
      "Prcoessing Row 190000000\n"
     ]
    }
   ],
   "source": [
    "with open('uniref90_cluster_assignments.csv') as f:\n",
    "    with open('uniref90_cluster_assignments_only_coverage.csv', 'w') as fOut:\n",
    "        for idx, line in enumerate(f):\n",
    "            l = line[:-1].split(',')\n",
    "            ids_to_keep = [id for id in l[1].split(';') if id in coverage_protein_set]\n",
    "            if len(ids_to_keep) > 0:\n",
    "                fOut.write(l[0]+','+';'.join(ids_to_keep)+'\\n')\n",
    "            if idx%1000000==0:\n",
    "                clear_output()\n",
    "                print(f'Prcoessing Row {idx}')"
   ]
  },
  {
   "cell_type": "code",
   "execution_count": 4,
   "metadata": {},
   "outputs": [
    {
     "name": "stdout",
     "output_type": "stream",
     "text": [
      "Processing Row: 26000000\n"
     ]
    }
   ],
   "source": [
    "with open('uniref90_cluster_assignments_only_coverage.csv') as f:\n",
    "    with open('uniref90_new_representatives_from_coverage.csv', 'w') as fOut:\n",
    "        for idx, line in enumerate(f):\n",
    "            fOut.write(random.choice(line[:-1].split(',')[1].split(';'))+'\\n')\n",
    "            if idx % 1000000 == 0:\n",
    "                clear_output()\n",
    "                print(f'Processing Row: {idx}')"
   ]
  }
 ],
 "metadata": {
  "kernelspec": {
   "display_name": "BioInf",
   "language": "python",
   "name": "python3"
  },
  "language_info": {
   "codemirror_mode": {
    "name": "ipython",
    "version": 3
   },
   "file_extension": ".py",
   "mimetype": "text/x-python",
   "name": "python",
   "nbconvert_exporter": "python",
   "pygments_lexer": "ipython3",
   "version": "3.9.18"
  }
 },
 "nbformat": 4,
 "nbformat_minor": 2
}
