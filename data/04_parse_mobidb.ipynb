{
 "cells": [
  {
   "cell_type": "code",
   "execution_count": 1,
   "metadata": {},
   "outputs": [],
   "source": [
    "import gzip\n",
    "import csv\n",
    "from IPython.display import clear_output"
   ]
  },
  {
   "cell_type": "code",
   "execution_count": null,
   "metadata": {},
   "outputs": [],
   "source": [
    "with gzip.open('extra.xml.gz', 'rt') as f:\n",
    "    with open('idr_annotations_no_pfam.csv', 'a') as fOut:\n",
    "        span = False\n",
    "        for idx, line in enumerate(f):\n",
    "            if 'protein id' in line:\n",
    "                prot = line.split('\"')\n",
    "                fOut.write('\\n'+prot[1]+',')\n",
    "            elif 'match' in line and 'dbname=\"MOBIDBLT\"' in line:\n",
    "                span = True\n",
    "            elif '</match>' in line:\n",
    "                span = False\n",
    "            elif span:\n",
    "                bound = line.split('\"')\n",
    "                fOut.write('d;'+bound[1]+':'+bound[3]+'|')\n",
    "            if idx%1000000==0:\n",
    "                clear_output()\n",
    "                print(f'Processing Row: {idx}')"
   ]
  },
  {
   "cell_type": "code",
   "execution_count": 2,
   "metadata": {},
   "outputs": [
    {
     "name": "stdout",
     "output_type": "stream",
     "text": [
      "row 90000000\n"
     ]
    }
   ],
   "source": [
    "with open('pfam_domains_grouped_len_no_overlap.csv') as f:\n",
    "    rdr = csv.reader(f)\n",
    "    pfam_protein_set_1 = set()\n",
    "    for idx, line in enumerate(rdr):\n",
    "        if idx > 90000000:\n",
    "            break\n",
    "        pfam_protein_set_1.add(line[0])\n",
    "        if idx % 1000000 == 0:\n",
    "            clear_output()\n",
    "            print('row', idx)"
   ]
  },
  {
   "cell_type": "code",
   "execution_count": 3,
   "metadata": {},
   "outputs": [
    {
     "name": "stdout",
     "output_type": "stream",
     "text": [
      "Processing Row 230000000\n"
     ]
    }
   ],
   "source": [
    "with open('idr_annotations_no_pfam.csv') as f:\n",
    "    with open('idr_annotations_pfam_proteins.csv', 'w') as fOut:\n",
    "        for idx, line in enumerate(f):\n",
    "            l = line.split(',')\n",
    "            if l[0] in pfam_protein_set_1 and l[1][:-1] != '':\n",
    "                fOut.write(line)\n",
    "            if idx % 1000000 == 0:\n",
    "                clear_output()\n",
    "                print(f'Processing Row {idx}')"
   ]
  },
  {
   "cell_type": "code",
   "execution_count": 4,
   "metadata": {},
   "outputs": [],
   "source": [
    "del pfam_protein_set_1"
   ]
  },
  {
   "cell_type": "code",
   "execution_count": 5,
   "metadata": {},
   "outputs": [
    {
     "name": "stdout",
     "output_type": "stream",
     "text": [
      "row 181000000\n"
     ]
    }
   ],
   "source": [
    "with open('pfam_domains_grouped_len_no_overlap.csv') as f:\n",
    "    rdr = csv.reader(f)\n",
    "    pfam_protein_set_2 = set()\n",
    "    for idx, line in enumerate(rdr):\n",
    "        if idx <= 90000000:\n",
    "            continue\n",
    "        pfam_protein_set_2.add(line[0])\n",
    "        if idx % 1000000 == 0:\n",
    "            clear_output()\n",
    "            print('row', idx)"
   ]
  },
  {
   "cell_type": "code",
   "execution_count": 6,
   "metadata": {},
   "outputs": [
    {
     "name": "stdout",
     "output_type": "stream",
     "text": [
      "Processing Row 230000000\n"
     ]
    }
   ],
   "source": [
    "with open('idr_annotations_no_pfam.csv') as f:\n",
    "    with open('idr_annotations_pfam_proteins_2.csv', 'w') as fOut:\n",
    "        for idx, line in enumerate(f):\n",
    "            l = line.split(',')\n",
    "            if l[0] in pfam_protein_set_2 and l[1][:-1] != '':\n",
    "                fOut.write(line)\n",
    "            if idx % 1000000 == 0:\n",
    "                clear_output()\n",
    "                print(f'Processing Row {idx}')"
   ]
  },
  {
   "cell_type": "code",
   "execution_count": 7,
   "metadata": {},
   "outputs": [],
   "source": [
    "del pfam_protein_set_2"
   ]
  },
  {
   "cell_type": "code",
   "execution_count": 8,
   "metadata": {},
   "outputs": [],
   "source": [
    "def parse_doms(dom_str):\n",
    "\n",
    "    def sort_domains(interval_list):\n",
    "        idx = sorted(range(len(interval_list)), key=lambda k: interval_list[k][0])\n",
    "        return [interval_list[i] for i in idx]\n",
    "\n",
    "    unsorted = [list(map(int, it[1].split(':'))) for it in (dom.split(';') for dom in dom_str.split('|'))]\n",
    "\n",
    "    return sort_domains(unsorted)"
   ]
  },
  {
   "cell_type": "code",
   "execution_count": 9,
   "metadata": {},
   "outputs": [],
   "source": [
    "def merge_sorted_intervals(sorted_intervals):\n",
    "    merged_intervals = [sorted_intervals[0]]\n",
    "    for intrvl in sorted_intervals[1:]:\n",
    "        if intrvl[0] > merged_intervals[-1][1]:\n",
    "            merged_intervals.append(intrvl)\n",
    "        else:\n",
    "            merged_intervals[-1][1] = max(merged_intervals[-1][1], intrvl[1])\n",
    "    return merged_intervals"
   ]
  },
  {
   "cell_type": "code",
   "execution_count": 10,
   "metadata": {},
   "outputs": [],
   "source": [
    "def intrvl_list_to_str(intrvl_list):\n",
    "    output = ''\n",
    "    for intrvl in intrvl_list:\n",
    "        output += str(intrvl[0]) + ':' + str(intrvl[1]) + '|'\n",
    "    return output[:-1]"
   ]
  },
  {
   "cell_type": "code",
   "execution_count": 11,
   "metadata": {},
   "outputs": [
    {
     "name": "stdout",
     "output_type": "stream",
     "text": [
      "Processing Row 17000000\n"
     ]
    }
   ],
   "source": [
    "with open('idr_annotations_pfam_proteins.csv') as f:\n",
    "    with open('idr_annotations_pfam_proteins_merged.csv', 'w') as fOut:\n",
    "        rdr = csv.reader(f)\n",
    "        for idx, line in enumerate(rdr):\n",
    "            fOut.write(line[0]+','+intrvl_list_to_str(merge_sorted_intervals(parse_doms(line[1][:-1])))+'\\n')\n",
    "            if idx % 1000000 == 0:\n",
    "                clear_output()\n",
    "                print(f'Processing Row {idx}')"
   ]
  },
  {
   "cell_type": "code",
   "execution_count": 12,
   "metadata": {},
   "outputs": [
    {
     "name": "stdout",
     "output_type": "stream",
     "text": [
      "Processing Row 22000000\n"
     ]
    }
   ],
   "source": [
    "with open('idr_annotations_pfam_proteins_2.csv') as f:\n",
    "    with open('idr_annotations_pfam_proteins_2_merged.csv', 'w') as fOut:\n",
    "        rdr = csv.reader(f)\n",
    "        for idx, line in enumerate(rdr):\n",
    "            fOut.write(line[0]+','+intrvl_list_to_str(merge_sorted_intervals(parse_doms(line[1][:-1])))+'\\n')\n",
    "            if idx % 1000000 == 0:\n",
    "                clear_output()\n",
    "                print(f'Processing Row {idx}')"
   ]
  }
 ],
 "metadata": {
  "kernelspec": {
   "display_name": "BioInf",
   "language": "python",
   "name": "python3"
  },
  "language_info": {
   "codemirror_mode": {
    "name": "ipython",
    "version": 3
   },
   "file_extension": ".py",
   "mimetype": "text/x-python",
   "name": "python",
   "nbconvert_exporter": "python",
   "pygments_lexer": "ipython3",
   "version": "3.9.18"
  }
 },
 "nbformat": 4,
 "nbformat_minor": 2
}
