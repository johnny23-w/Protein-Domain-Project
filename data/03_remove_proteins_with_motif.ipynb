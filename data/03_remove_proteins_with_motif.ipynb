{
 "cells": [
  {
   "cell_type": "code",
   "execution_count": 1,
   "metadata": {},
   "outputs": [],
   "source": [
    "from IPython.display import clear_output\n",
    "import csv"
   ]
  },
  {
   "cell_type": "code",
   "execution_count": 2,
   "metadata": {},
   "outputs": [],
   "source": [
    "def parse_domain(dom_str):\n",
    "\n",
    "    def sort_domains(domain_list):\n",
    "        idx = sorted(range(len(domain_list)), key=lambda k: domain_list[k][1][0])\n",
    "        return [domain_list[i] for i in idx]\n",
    "\n",
    "    unsorted = [[it[0], list(map(int, it[1].split(':')))] for it in (dom.split(';') for dom in dom_str.split('|'))]\n",
    "\n",
    "    return sort_domains(unsorted)"
   ]
  },
  {
   "cell_type": "code",
   "execution_count": 12,
   "metadata": {},
   "outputs": [],
   "source": [
    "domains = set()\n",
    "with open('family.tsv') as f:\n",
    "    rdr = csv.reader(f, delimiter='\\t')\n",
    "    next(rdr)\n",
    "    for line in rdr:\n",
    "        domains.add(line[0])\n",
    "with open('domain.tsv') as f:\n",
    "    rdr = csv.reader(f, delimiter='\\t')\n",
    "    next(rdr)\n",
    "    for line in rdr:\n",
    "        domains.add(line[0])\n",
    "motifs = set()\n",
    "with open('conserved_site.tsv') as f:\n",
    "    rdr = csv.reader(f, delimiter='\\t')\n",
    "    next(rdr)\n",
    "    for line in rdr:\n",
    "        motifs.add(line[0])\n",
    "repeats = set()\n",
    "with open('repeat.tsv') as f:\n",
    "    rdr = csv.reader(f, delimiter='\\t')\n",
    "    next(rdr)\n",
    "    for line in rdr:\n",
    "        repeats.add(line[0])\n",
    "with open('coiled_coil.tsv') as f:\n",
    "    rdr = csv.reader(f, delimiter='\\t')\n",
    "    next(rdr)\n",
    "    for line in rdr:\n",
    "        domains.add(line[0])\n",
    "with open('disordered.tsv') as f:\n",
    "    rdr = csv.reader(f, delimiter='\\t')\n",
    "    next(rdr)\n",
    "    for line in rdr:\n",
    "        domains.add(line[0])"
   ]
  },
  {
   "cell_type": "code",
   "execution_count": 16,
   "metadata": {},
   "outputs": [],
   "source": [
    "def prot_ambig(dom_list, domains, motifs, repeats):\n",
    "    for dom in dom_list:\n",
    "        if (dom[0] in domains and dom[1][1]-dom[1][0]+1 < 40) or (dom[0] in motifs and dom[1][1]-dom[1][0]+1 > 20) or (dom[0] in repeats and dom[1][1]-dom[1][0] < 60):\n",
    "            return True\n",
    "    return False"
   ]
  },
  {
   "cell_type": "code",
   "execution_count": 17,
   "metadata": {},
   "outputs": [
    {
     "name": "stdout",
     "output_type": "stream",
     "text": [
      "181000000\n"
     ]
    }
   ],
   "source": [
    "with open('pfam_domains_grouped_len_no_overlap.csv') as f:\n",
    "    with open('pfam_domains_grouped_len_no_motif.csv', 'w') as fNoMotif:\n",
    "        with open('pfam_domains_grouped_len_with_motif.csv', 'w') as fMotif:\n",
    "            for idx, line in enumerate(f):\n",
    "                doms = parse_domain(line.split(',')[1])\n",
    "                if prot_ambig(doms, domains, motifs, repeats):\n",
    "                    fMotif.write(line)\n",
    "                else:\n",
    "                    fNoMotif.write(line)\n",
    "                if idx % 1000000 == 0:\n",
    "                    clear_output()\n",
    "                    print(idx)"
   ]
  }
 ],
 "metadata": {
  "kernelspec": {
   "display_name": "BioInf",
   "language": "python",
   "name": "python3"
  },
  "language_info": {
   "codemirror_mode": {
    "name": "ipython",
    "version": 3
   },
   "file_extension": ".py",
   "mimetype": "text/x-python",
   "name": "python",
   "nbconvert_exporter": "python",
   "pygments_lexer": "ipython3",
   "version": "3.9.18"
  }
 },
 "nbformat": 4,
 "nbformat_minor": 2
}
