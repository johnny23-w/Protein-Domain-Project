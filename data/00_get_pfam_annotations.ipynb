{
 "cells": [
  {
   "cell_type": "code",
   "execution_count": 5,
   "metadata": {},
   "outputs": [],
   "source": [
    "import gzip\n",
    "import csv\n",
    "from IPython.display import clear_output"
   ]
  },
  {
   "cell_type": "code",
   "execution_count": 7,
   "metadata": {},
   "outputs": [
    {
     "name": "stdout",
     "output_type": "stream",
     "text": [
      "Processing Line 1350000000\n"
     ]
    }
   ],
   "source": [
    "with gzip.open('protein2ipr.dat.gz', 'rt', encoding='utf-8') as f:\n",
    "    with open('pfam_domains_grouped.csv', 'w') as fOut:\n",
    "        rdr = csv.reader(f, delimiter='\\t', quotechar='|')\n",
    "        prevprot = 'NA'\n",
    "        for idx, line in enumerate(rdr):\n",
    "            if line[3][:2] == 'PF':\n",
    "                cprot = line[0]\n",
    "                if cprot != prevprot:\n",
    "                    fOut.write(f'\\n{line[0]},{line[3]};{line[4]}:{line[5]}')\n",
    "                else:\n",
    "                    fOut.write(f'|{line[3]};{line[4]}:{line[5]}')\n",
    "                prevprot = cprot\n",
    "            if idx % 10000000 == 0:\n",
    "                clear_output()\n",
    "                print(f'Processing Line {idx}')"
   ]
  }
 ],
 "metadata": {
  "kernelspec": {
   "display_name": "BioInf",
   "language": "python",
   "name": "python3"
  },
  "language_info": {
   "codemirror_mode": {
    "name": "ipython",
    "version": 3
   },
   "file_extension": ".py",
   "mimetype": "text/x-python",
   "name": "python",
   "nbconvert_exporter": "python",
   "pygments_lexer": "ipython3",
   "version": "3.9.18"
  }
 },
 "nbformat": 4,
 "nbformat_minor": 2
}
