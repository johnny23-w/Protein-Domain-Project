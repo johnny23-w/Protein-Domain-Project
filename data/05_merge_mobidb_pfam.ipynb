{
 "cells": [
  {
   "cell_type": "code",
   "execution_count": 1,
   "metadata": {},
   "outputs": [],
   "source": [
    "import csv\n",
    "from IPython.display import clear_output"
   ]
  },
  {
   "cell_type": "code",
   "execution_count": 2,
   "metadata": {},
   "outputs": [
    {
     "name": "stdout",
     "output_type": "stream",
     "text": [
      "Processing Row 22000000\n"
     ]
    }
   ],
   "source": [
    "idr_annot = dict()\n",
    "\n",
    "with open('idr_annotations_pfam_proteins_merged.csv') as f:\n",
    "    rdr = csv.reader(f)\n",
    "    for idx, line in enumerate(rdr):\n",
    "        idr_annot[line[0]] = line[1]\n",
    "        if idx % 1000000 == 0:\n",
    "            clear_output()\n",
    "            print(f'Processing Row {idx}')\n",
    "\n",
    "with open('idr_annotations_pfam_proteins_2_merged.csv') as f:\n",
    "    rdr = csv.reader(f)\n",
    "    for idx, line in enumerate(rdr):\n",
    "        idr_annot[line[0]] = line[1]\n",
    "        if idx % 1000000 == 0:\n",
    "            clear_output()\n",
    "            print(f'Processing Row {idx}')"
   ]
  },
  {
   "cell_type": "code",
   "execution_count": 7,
   "metadata": {},
   "outputs": [],
   "source": [
    "def parse_doms(dom_str):\n",
    "\n",
    "    dom_list = [list(map(int, it[1].split(':'))) for it in (dom.split(';') for dom in dom_str.split('|'))]\n",
    "\n",
    "    return dom_list\n",
    "\n",
    "\n",
    "def parse_idr(idr_str):\n",
    "    return [list(map(int, idr.split(':'))) for idr in idr_str.split('|')]\n",
    "\n",
    "\n",
    "def check_idr_contained(idr, dom):\n",
    "    start, end = idr\n",
    "    start2, end2 = dom\n",
    "    return (start2 <= start) and (end <= end2)\n",
    "\n",
    "\n",
    "def check_overlaps(idr, dom):\n",
    "    start, end = idr\n",
    "    start2, end2 = dom\n",
    "    return min(end, end2) - max(start, start2) >= 0\n",
    "\n",
    "\n",
    "def check_idr_contained_dom_list(idr, dom_list):\n",
    "    for dom in dom_list:\n",
    "        if check_idr_contained(idr, dom):\n",
    "            return True\n",
    "    return False\n",
    "\n",
    "def check_overlaps_dom_list(idr, dom_list):\n",
    "    for dom in dom_list:\n",
    "        if check_overlaps(idr, dom):\n",
    "            return True\n",
    "    return False\n",
    "\n",
    "def domain_list_to_str(domain_list):\n",
    "    dom_str = ''\n",
    "    for dom in domain_list:\n",
    "        dom_str += dom[0] + ';' + str(dom[1][0]) + ':' + str(dom[1][1]) + '|'\n",
    "    return dom_str[:-1]"
   ]
  },
  {
   "cell_type": "code",
   "execution_count": 7,
   "metadata": {},
   "outputs": [
    {
     "name": "stdout",
     "output_type": "stream",
     "text": [
      "Processing Row 167000000\n"
     ]
    }
   ],
   "source": [
    "with open('pfam_domains_grouped_len_no_motif.csv') as f:\n",
    "    with open('complete_dataset.csv', 'w') as fOut:\n",
    "        for idx, line in enumerate(f):\n",
    "\n",
    "            if idx % 1000000 == 0:\n",
    "                clear_output()\n",
    "                print(f'Processing Row {idx}')\n",
    "\n",
    "            l = line[:-1].split(',')\n",
    "            if l[0] not in idr_annot.keys():\n",
    "                fOut.write(line)\n",
    "            else:\n",
    "                idrs = idr_annot[l[0]]\n",
    "                dom_list = parse_doms(l[1])\n",
    "                idr_list = parse_idr(idrs)\n",
    "                idr_to_keep = []\n",
    "                for idr in idr_list:\n",
    "                    if check_idr_contained_dom_list(idr, dom_list):\n",
    "                        continue\n",
    "                    elif check_overlaps_dom_list(idr, dom_list):\n",
    "                        break\n",
    "                    else:\n",
    "                        idr_to_keep.append(idr)\n",
    "                fOut.write(l[0]+','+l[1])\n",
    "                if len(idr_to_keep) > 0:\n",
    "                    for idr in idr_to_keep:\n",
    "                        fOut.write(f'|d;{idr[0]}:{idr[1]}')\n",
    "                fOut.write(','+l[2]+'\\n')"
   ]
  },
  {
   "cell_type": "code",
   "execution_count": 3,
   "metadata": {},
   "outputs": [],
   "source": [
    "motifs = set()\n",
    "with open('conserved_site.tsv') as f:\n",
    "    rdr = csv.reader(f, delimiter='\\t')\n",
    "    next(rdr)\n",
    "    for line in rdr:\n",
    "        motifs.add(line[0])"
   ]
  },
  {
   "cell_type": "code",
   "execution_count": 8,
   "metadata": {},
   "outputs": [],
   "source": [
    "def parse_domain(dom_str):\n",
    "    \n",
    "    def sort_domains(domain_list):\n",
    "        idx = sorted(range(len(domain_list)), key=lambda k: domain_list[k][1][0])\n",
    "        return [domain_list[i] for i in idx]\n",
    "\n",
    "    unsorted = [[it[0], list(map(int, it[1].split(':')))] for it in (dom.split(';') for dom in dom_str.split('|'))]\n",
    "\n",
    "    return sort_domains(unsorted)"
   ]
  },
  {
   "cell_type": "code",
   "execution_count": 16,
   "metadata": {},
   "outputs": [],
   "source": [
    "motifs_and_disorder = motifs\n",
    "motifs_and_disorder.add('d')"
   ]
  },
  {
   "cell_type": "code",
   "execution_count": 17,
   "metadata": {},
   "outputs": [],
   "source": [
    "def check_for_consec_disorder_motif(dom_list):\n",
    "    if len(dom_list) == 1:\n",
    "        return False\n",
    "    else:\n",
    "        for i, dom in enumerate(dom_list[:-1]):\n",
    "            if dom[0] in motifs_and_disorder and dom_list[i+1][0] in motifs_and_disorder:\n",
    "                return True\n",
    "        return False"
   ]
  },
  {
   "cell_type": "code",
   "execution_count": 24,
   "metadata": {},
   "outputs": [
    {
     "name": "stdout",
     "output_type": "stream",
     "text": [
      "167000000\n"
     ]
    }
   ],
   "source": [
    "with open('complete_dataset.csv') as f:\n",
    "    with open('complete_dataset_no_consec.csv', 'w') as fOut:\n",
    "        with open('complete_dataset_with_consec.csv', 'w') as fOut2:\n",
    "            for idx, line in enumerate(f):\n",
    "                if check_for_consec_disorder_motif(parse_domain(line.split(',')[1])):\n",
    "                    fOut2.write(line)\n",
    "                else:\n",
    "                    fOut.write(line)\n",
    "                if idx % 1000000 == 0:\n",
    "                    clear_output()\n",
    "                    print(idx)"
   ]
  }
 ],
 "metadata": {
  "kernelspec": {
   "display_name": "BioInf",
   "language": "python",
   "name": "python3"
  },
  "language_info": {
   "codemirror_mode": {
    "name": "ipython",
    "version": 3
   },
   "file_extension": ".py",
   "mimetype": "text/x-python",
   "name": "python",
   "nbconvert_exporter": "python",
   "pygments_lexer": "ipython3",
   "version": "3.9.18"
  }
 },
 "nbformat": 4,
 "nbformat_minor": 2
}
