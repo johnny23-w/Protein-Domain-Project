{
 "cells": [
  {
   "cell_type": "code",
   "execution_count": 1,
   "metadata": {},
   "outputs": [],
   "source": [
    "import csv\n",
    "import gzip\n",
    "from IPython.display import clear_output"
   ]
  },
  {
   "cell_type": "code",
   "execution_count": 2,
   "metadata": {},
   "outputs": [],
   "source": [
    "import csv\n",
    "\n",
    "ids = dict()\n",
    "with open('pfam_domains_grouped.csv') as f:\n",
    "    reader = csv.reader(f)\n",
    "    next(reader)\n",
    "    for id, _ in reader:\n",
    "        ids[id] = None"
   ]
  },
  {
   "cell_type": "code",
   "execution_count": 3,
   "metadata": {},
   "outputs": [],
   "source": [
    "def read_fasta(file, ids):\n",
    "    # file: a path to a fasta file\n",
    "    # ids a dict of fasta_ids you are interested in of the form { 'fasta_id': None, ... }\n",
    "    fasta_name = None\n",
    "    seq = None\n",
    "    \n",
    "    with open('interpro_seqs.fasta', 'a') as fOut:\n",
    "        with gzip.open(file, \"rt\") as fhIn:\n",
    "            for idx, line in enumerate(fhIn):\n",
    "                if idx % 1000000 == 0:\n",
    "                    clear_output()\n",
    "                    print(f'Processing Line: {idx}')\n",
    "                if line.startswith(\">\"):\n",
    "                    if fasta_name:\n",
    "                        # do something with the previous seq\n",
    "                        if fasta_name in ids:\n",
    "                            # calc length here\n",
    "                            seq_len = len(seq)\n",
    "                            ids[fasta_name] = seq_len\n",
    "\n",
    "                            fOut.write(f'>{fasta_name}\\n{seq}\\n')\n",
    "\n",
    "                    # reset the previous seq\n",
    "                    fasta_name = line.split('|')[1]\n",
    "                    seq = ''\n",
    "                else:\n",
    "                    seq = seq+line.rstrip()\n",
    "\n",
    "        # calc the length for the final seq here\n",
    "        seq_len = len(seq)\n",
    "        ids[fasta_name] = seq_len\n",
    "        fOut.write(f'>{fasta_name}\\n{seq}\\n')\n",
    "        return(ids)"
   ]
  },
  {
   "cell_type": "code",
   "execution_count": 4,
   "metadata": {},
   "outputs": [
    {
     "name": "stdout",
     "output_type": "stream",
     "text": [
      "Processing Line: 1809000000\n"
     ]
    }
   ],
   "source": [
    "id_out = read_fasta('uniprot_trembl.fasta.gz', ids)"
   ]
  },
  {
   "cell_type": "code",
   "execution_count": 5,
   "metadata": {},
   "outputs": [
    {
     "name": "stdout",
     "output_type": "stream",
     "text": [
      "Processing Line: 4000000\n"
     ]
    }
   ],
   "source": [
    "id_out2 = read_fasta('uniprot_sprot.fasta.gz', id_out)"
   ]
  },
  {
   "cell_type": "code",
   "execution_count": 6,
   "metadata": {},
   "outputs": [
    {
     "name": "stdout",
     "output_type": "stream",
     "text": [
      "Processing Line: 182000000\n"
     ]
    }
   ],
   "source": [
    "with open('pfam_domains_grouped.csv') as f:\n",
    "    with open('pfam_domains_grouped_len.csv', 'w') as f_out:\n",
    "        reader = csv.reader(f)\n",
    "        next(reader)\n",
    "        for idx, line in enumerate(reader):\n",
    "            f_out.write(','.join(line)+','+str(id_out2[line[0]])+'\\n')\n",
    "            if idx % 1000000 == 0:\n",
    "                clear_output()\n",
    "                print(f'Processing Line: {idx}')"
   ]
  }
 ],
 "metadata": {
  "kernelspec": {
   "display_name": "BioInf",
   "language": "python",
   "name": "python3"
  },
  "language_info": {
   "codemirror_mode": {
    "name": "ipython",
    "version": 3
   },
   "file_extension": ".py",
   "mimetype": "text/x-python",
   "name": "python",
   "nbconvert_exporter": "python",
   "pygments_lexer": "ipython3",
   "version": "3.9.18"
  }
 },
 "nbformat": 4,
 "nbformat_minor": 2
}
