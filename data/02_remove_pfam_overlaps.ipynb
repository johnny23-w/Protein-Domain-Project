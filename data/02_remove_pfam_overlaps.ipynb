{
 "cells": [
  {
   "cell_type": "code",
   "execution_count": 1,
   "metadata": {},
   "outputs": [],
   "source": [
    "import csv\n",
    "from IPython.display import clear_output"
   ]
  },
  {
   "cell_type": "code",
   "execution_count": 2,
   "metadata": {},
   "outputs": [],
   "source": [
    "def parse_domain(dom_str):\n",
    "\n",
    "    def sort_domains(domain_list):\n",
    "        idx = sorted(range(len(domain_list)), key=lambda k: domain_list[k][1][0])\n",
    "        return [domain_list[i] for i in idx]\n",
    "\n",
    "    unsorted = [[it[0], list(map(int, it[1].split(':')))] for it in (dom.split(';') for dom in dom_str.split('|'))]\n",
    "\n",
    "    return sort_domains(unsorted)\n",
    "\n",
    "def domain_list_to_str(domain_list):\n",
    "    dom_str = ''\n",
    "    for dom in domain_list:\n",
    "        dom_str += dom[0] + ';' + str(dom[1][0]) + ':' + str(dom[1][1]) + '|'\n",
    "    return dom_str[:-1]"
   ]
  },
  {
   "cell_type": "code",
   "execution_count": 3,
   "metadata": {},
   "outputs": [],
   "source": [
    "def check_overlaps(sorted_doms):\n",
    "    for i, dom in enumerate(sorted_doms[:-1]):\n",
    "        next_dom = sorted_doms[i+1]\n",
    "        if dom[1][1] >= next_dom[1][0]:\n",
    "            return True\n",
    "    return False"
   ]
  },
  {
   "cell_type": "code",
   "execution_count": 4,
   "metadata": {},
   "outputs": [
    {
     "name": "stdout",
     "output_type": "stream",
     "text": [
      "Processing Row 182000000\n"
     ]
    }
   ],
   "source": [
    "with open('pfam_domains_grouped_len.csv') as f:\n",
    "    with open('pfam_domains_grouped_len_no_overlap.csv', 'w') as fOut:\n",
    "        rdr = csv.reader(f)\n",
    "        for idx, line in enumerate(rdr):\n",
    "            dom_list = parse_domain(line[1])\n",
    "            if not check_overlaps(dom_list):\n",
    "                fOut.write(line[0]+','+domain_list_to_str(dom_list)+','+line[2]+'\\n')\n",
    "            if idx%1000000==0:\n",
    "                clear_output()\n",
    "                print(f'Processing Row {idx}')"
   ]
  }
 ],
 "metadata": {
  "kernelspec": {
   "display_name": "BioInf",
   "language": "python",
   "name": "python3"
  },
  "language_info": {
   "codemirror_mode": {
    "name": "ipython",
    "version": 3
   },
   "file_extension": ".py",
   "mimetype": "text/x-python",
   "name": "python",
   "nbconvert_exporter": "python",
   "pygments_lexer": "ipython3",
   "version": "3.9.18"
  }
 },
 "nbformat": 4,
 "nbformat_minor": 2
}
